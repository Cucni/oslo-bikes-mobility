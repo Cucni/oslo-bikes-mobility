{
 "cells": [
  {
   "cell_type": "markdown",
   "metadata": {},
   "source": [
    "# Lockdown intensity through public bikes mobility data"
   ]
  },
  {
   "cell_type": "markdown",
   "metadata": {},
   "source": [
    "With this analysis I would like to gain insights on the intensity of the lockdown in April at Oslo, through data on the use of public bikes. In general, the harder the lockdown, the fewer the people travelling. Therefore we should be able to assess how strong the restrictions are, and how closely people are following them, by looking at mobility data.\n",
    "\n",
    "In this analysis we are going to look at data about the use of the public shared bikes provided by the city of Oslo. We will start from a very simple analysis: by counting the number of rides and the total time travelled."
   ]
  },
  {
   "cell_type": "code",
   "execution_count": 16,
   "metadata": {},
   "outputs": [
    {
     "data": {
      "text/html": [
       "<div>\n",
       "<style scoped>\n",
       "    .dataframe tbody tr th:only-of-type {\n",
       "        vertical-align: middle;\n",
       "    }\n",
       "\n",
       "    .dataframe tbody tr th {\n",
       "        vertical-align: top;\n",
       "    }\n",
       "\n",
       "    .dataframe thead th {\n",
       "        text-align: right;\n",
       "    }\n",
       "</style>\n",
       "<table border=\"1\" class=\"dataframe\">\n",
       "  <thead>\n",
       "    <tr style=\"text-align: right;\">\n",
       "      <th></th>\n",
       "      <th>started_at</th>\n",
       "      <th>ended_at</th>\n",
       "      <th>duration</th>\n",
       "      <th>start_station_id</th>\n",
       "      <th>start_station_name</th>\n",
       "      <th>start_station_description</th>\n",
       "      <th>start_station_latitude</th>\n",
       "      <th>start_station_longitude</th>\n",
       "      <th>end_station_id</th>\n",
       "      <th>end_station_name</th>\n",
       "      <th>end_station_description</th>\n",
       "      <th>end_station_latitude</th>\n",
       "      <th>end_station_longitude</th>\n",
       "    </tr>\n",
       "  </thead>\n",
       "  <tbody>\n",
       "    <tr>\n",
       "      <th>0</th>\n",
       "      <td>2019-04-02 22:18:47.926000+00:00</td>\n",
       "      <td>2019-04-02 22:24:25.427000+00:00</td>\n",
       "      <td>337</td>\n",
       "      <td>401</td>\n",
       "      <td>Schous plass</td>\n",
       "      <td>nærmest Thorvald Meyers gate</td>\n",
       "      <td>59,920259</td>\n",
       "      <td>10,760629</td>\n",
       "      <td>381</td>\n",
       "      <td>Grønlands torg</td>\n",
       "      <td>ved Tøyenbekken</td>\n",
       "      <td>59,91252</td>\n",
       "      <td>10,76224</td>\n",
       "    </tr>\n",
       "    <tr>\n",
       "      <th>1</th>\n",
       "      <td>2019-04-02 22:25:54.203000+00:00</td>\n",
       "      <td>2019-04-02 22:27:36.114000+00:00</td>\n",
       "      <td>101</td>\n",
       "      <td>556</td>\n",
       "      <td>Pilestredet</td>\n",
       "      <td>ved Sporveisgata</td>\n",
       "      <td>59,9262242</td>\n",
       "      <td>10,7296246</td>\n",
       "      <td>556</td>\n",
       "      <td>Pilestredet</td>\n",
       "      <td>ved Sporveisgata</td>\n",
       "      <td>59,9262242</td>\n",
       "      <td>10,7296246</td>\n",
       "    </tr>\n",
       "    <tr>\n",
       "      <th>2</th>\n",
       "      <td>2019-04-02 22:26:39.308000+00:00</td>\n",
       "      <td>2019-04-02 22:31:59.445000+00:00</td>\n",
       "      <td>320</td>\n",
       "      <td>561</td>\n",
       "      <td>Kirkeveien</td>\n",
       "      <td>nord for Gørbitz' gate</td>\n",
       "      <td>59,9335582</td>\n",
       "      <td>10,7264261</td>\n",
       "      <td>471</td>\n",
       "      <td>Marienlyst</td>\n",
       "      <td>i Suhms gate</td>\n",
       "      <td>59,932454</td>\n",
       "      <td>10,721769</td>\n",
       "    </tr>\n",
       "    <tr>\n",
       "      <th>3</th>\n",
       "      <td>2019-04-03 03:09:58.992000+00:00</td>\n",
       "      <td>2019-04-03 03:12:00.589000+00:00</td>\n",
       "      <td>121</td>\n",
       "      <td>393</td>\n",
       "      <td>Hans Nielsen Hauges plass</td>\n",
       "      <td>Mellom Åsengata og Nordkappgata</td>\n",
       "      <td>59,939244</td>\n",
       "      <td>10,774319</td>\n",
       "      <td>393</td>\n",
       "      <td>Hans Nielsen Hauges plass</td>\n",
       "      <td>Mellom Åsengata og Nordkappgata</td>\n",
       "      <td>59,939244</td>\n",
       "      <td>10,774319</td>\n",
       "    </tr>\n",
       "    <tr>\n",
       "      <th>4</th>\n",
       "      <td>2019-04-03 03:10:02.415000+00:00</td>\n",
       "      <td>2019-04-03 03:14:44.537000+00:00</td>\n",
       "      <td>282</td>\n",
       "      <td>597</td>\n",
       "      <td>Fredensborg</td>\n",
       "      <td>ved rundkjøringen</td>\n",
       "      <td>59,920995</td>\n",
       "      <td>10,750358</td>\n",
       "      <td>557</td>\n",
       "      <td>Akersgata</td>\n",
       "      <td>ved Grensen</td>\n",
       "      <td>59,9141971</td>\n",
       "      <td>10,7428828</td>\n",
       "    </tr>\n",
       "  </tbody>\n",
       "</table>\n",
       "</div>"
      ],
      "text/plain": [
       "                        started_at                         ended_at  duration  \\\n",
       "0 2019-04-02 22:18:47.926000+00:00 2019-04-02 22:24:25.427000+00:00       337   \n",
       "1 2019-04-02 22:25:54.203000+00:00 2019-04-02 22:27:36.114000+00:00       101   \n",
       "2 2019-04-02 22:26:39.308000+00:00 2019-04-02 22:31:59.445000+00:00       320   \n",
       "3 2019-04-03 03:09:58.992000+00:00 2019-04-03 03:12:00.589000+00:00       121   \n",
       "4 2019-04-03 03:10:02.415000+00:00 2019-04-03 03:14:44.537000+00:00       282   \n",
       "\n",
       "   start_station_id         start_station_name  \\\n",
       "0               401               Schous plass   \n",
       "1               556                Pilestredet   \n",
       "2               561                 Kirkeveien   \n",
       "3               393  Hans Nielsen Hauges plass   \n",
       "4               597                Fredensborg   \n",
       "\n",
       "         start_station_description start_station_latitude  \\\n",
       "0     nærmest Thorvald Meyers gate              59,920259   \n",
       "1                 ved Sporveisgata             59,9262242   \n",
       "2           nord for Gørbitz' gate             59,9335582   \n",
       "3  Mellom Åsengata og Nordkappgata              59,939244   \n",
       "4                ved rundkjøringen              59,920995   \n",
       "\n",
       "  start_station_longitude  end_station_id           end_station_name  \\\n",
       "0               10,760629             381             Grønlands torg   \n",
       "1              10,7296246             556                Pilestredet   \n",
       "2              10,7264261             471                 Marienlyst   \n",
       "3               10,774319             393  Hans Nielsen Hauges plass   \n",
       "4               10,750358             557                  Akersgata   \n",
       "\n",
       "           end_station_description end_station_latitude end_station_longitude  \n",
       "0                  ved Tøyenbekken             59,91252              10,76224  \n",
       "1                 ved Sporveisgata           59,9262242            10,7296246  \n",
       "2                     i Suhms gate            59,932454             10,721769  \n",
       "3  Mellom Åsengata og Nordkappgata            59,939244             10,774319  \n",
       "4                      ved Grensen           59,9141971            10,7428828  "
      ]
     },
     "execution_count": 16,
     "metadata": {},
     "output_type": "execute_result"
    }
   ],
   "source": [
    "import pandas as pd\n",
    "import numpy as np\n",
    "import matplotlib.pyplot as plt\n",
    "import seaborn as sns\n",
    "sns.set_style('darkgrid')\n",
    "\n",
    "df_19 = pd.read_csv('04-2019.csv',parse_dates=[0,1])\n",
    "df_20 = pd.read_csv('04-2020.csv',parse_dates=[0,1])\n",
    "df_19.head()"
   ]
  },
  {
   "cell_type": "code",
   "execution_count": 19,
   "metadata": {},
   "outputs": [
    {
     "data": {
      "text/plain": [
       "Index(['started_at', 'ended_at', 'duration', 'start_station_id',\n",
       "       'start_station_name', 'start_station_description',\n",
       "       'start_station_latitude', 'start_station_longitude', 'end_station_id',\n",
       "       'end_station_name', 'end_station_description', 'end_station_latitude',\n",
       "       'end_station_longitude'],\n",
       "      dtype='object')"
      ]
     },
     "execution_count": 19,
     "metadata": {},
     "output_type": "execute_result"
    }
   ],
   "source": [
    "df_19.columns"
   ]
  },
  {
   "cell_type": "code",
   "execution_count": 20,
   "metadata": {},
   "outputs": [
    {
     "data": {
      "text/plain": [
       "-0.5019154649934454"
      ]
     },
     "execution_count": 20,
     "metadata": {},
     "output_type": "execute_result"
    }
   ],
   "source": [
    "rows_2019,cols_2019 = df_19.shape\n",
    "rows_2020,cols_2020 = df_20.shape\n",
    "total_rides_variation = (rows_2020 - rows_2019) / rows_2019\n",
    "total_rides_variation"
   ]
  },
  {
   "cell_type": "markdown",
   "metadata": {},
   "source": [
    "Compared to 2019, there have been 50.19% fewer rides in 2020."
   ]
  },
  {
   "cell_type": "code",
   "execution_count": 21,
   "metadata": {},
   "outputs": [
    {
     "data": {
      "text/plain": [
       "0          337\n",
       "1          101\n",
       "2          320\n",
       "3          121\n",
       "4          282\n",
       "5          658\n",
       "6          214\n",
       "7          384\n",
       "8          857\n",
       "9          339\n",
       "10        6683\n",
       "11        1004\n",
       "12         546\n",
       "13         608\n",
       "14         391\n",
       "15        1028\n",
       "16         872\n",
       "17         217\n",
       "18         593\n",
       "19         224\n",
       "20         246\n",
       "21         405\n",
       "22         284\n",
       "23         565\n",
       "24         185\n",
       "25         252\n",
       "26         207\n",
       "27         718\n",
       "28         273\n",
       "29         557\n",
       "          ... \n",
       "235683     693\n",
       "235684     432\n",
       "235685    4576\n",
       "235686     156\n",
       "235687     627\n",
       "235688     755\n",
       "235689     827\n",
       "235690     407\n",
       "235691     950\n",
       "235692     378\n",
       "235693    1104\n",
       "235694    1033\n",
       "235695     542\n",
       "235696     785\n",
       "235697     541\n",
       "235698    2382\n",
       "235699     293\n",
       "235700     979\n",
       "235701     397\n",
       "235702    1084\n",
       "235703     622\n",
       "235704     313\n",
       "235705     707\n",
       "235706     287\n",
       "235707     597\n",
       "235708     647\n",
       "235709     744\n",
       "235710     100\n",
       "235711     562\n",
       "235712     284\n",
       "Name: duration, Length: 235713, dtype: int64"
      ]
     },
     "execution_count": 21,
     "metadata": {},
     "output_type": "execute_result"
    }
   ],
   "source": [
    "df_19['duration']"
   ]
  },
  {
   "cell_type": "code",
   "execution_count": 22,
   "metadata": {},
   "outputs": [
    {
     "data": {
      "text/plain": [
       "-0.45972917064790036"
      ]
     },
     "execution_count": 22,
     "metadata": {},
     "output_type": "execute_result"
    }
   ],
   "source": [
    "total_duration_2019 = df_19['duration'].sum()\n",
    "total_duration_2020 = df_20['duration'].sum()\n",
    "total_duration_variation = (total_duration_2020 - total_duration_2019) / total_duration_2019\n",
    "total_duration_variation"
   ]
  },
  {
   "cell_type": "markdown",
   "metadata": {},
   "source": [
    "Compared to 2019, the total time travelled has shrinked by 45.97%."
   ]
  },
  {
   "cell_type": "code",
   "execution_count": 23,
   "metadata": {},
   "outputs": [
    {
     "data": {
      "text/plain": [
       "count    2.357130e+05\n",
       "mean     8.875432e+02\n",
       "std      6.237237e+03\n",
       "min      6.100000e+01\n",
       "25%      3.300000e+02\n",
       "50%      5.310000e+02\n",
       "75%      8.890000e+02\n",
       "max      1.135407e+06\n",
       "Name: duration, dtype: float64"
      ]
     },
     "execution_count": 23,
     "metadata": {},
     "output_type": "execute_result"
    }
   ],
   "source": [
    "df_19['duration'].describe()"
   ]
  },
  {
   "cell_type": "code",
   "execution_count": 24,
   "metadata": {},
   "outputs": [
    {
     "data": {
      "text/plain": [
       "count    117405.000000\n",
       "mean        962.715464\n",
       "std        1283.649437\n",
       "min          61.000000\n",
       "25%         384.000000\n",
       "50%         637.000000\n",
       "75%        1107.000000\n",
       "max      183081.000000\n",
       "Name: duration, dtype: float64"
      ]
     },
     "execution_count": 24,
     "metadata": {},
     "output_type": "execute_result"
    }
   ],
   "source": [
    "df_20['duration'].describe()"
   ]
  },
  {
   "cell_type": "markdown",
   "metadata": {},
   "source": [
    "From the description of the rides durations, we can see that actually the time travelled per ride has increased in 2020. Therefore the decrease in total time travelled is caused exclusively by the fewer total rides."
   ]
  },
  {
   "cell_type": "code",
   "execution_count": 25,
   "metadata": {},
   "outputs": [
    {
     "data": {
      "text/html": [
       "<div>\n",
       "<style scoped>\n",
       "    .dataframe tbody tr th:only-of-type {\n",
       "        vertical-align: middle;\n",
       "    }\n",
       "\n",
       "    .dataframe tbody tr th {\n",
       "        vertical-align: top;\n",
       "    }\n",
       "\n",
       "    .dataframe thead th {\n",
       "        text-align: right;\n",
       "    }\n",
       "</style>\n",
       "<table border=\"1\" class=\"dataframe\">\n",
       "  <thead>\n",
       "    <tr style=\"text-align: right;\">\n",
       "      <th></th>\n",
       "      <th>ended_at</th>\n",
       "      <th>duration</th>\n",
       "      <th>start_station_id</th>\n",
       "      <th>start_station_name</th>\n",
       "      <th>start_station_description</th>\n",
       "      <th>start_station_latitude</th>\n",
       "      <th>start_station_longitude</th>\n",
       "      <th>end_station_id</th>\n",
       "      <th>end_station_name</th>\n",
       "      <th>end_station_description</th>\n",
       "      <th>end_station_latitude</th>\n",
       "      <th>end_station_longitude</th>\n",
       "    </tr>\n",
       "    <tr>\n",
       "      <th>started_at</th>\n",
       "      <th></th>\n",
       "      <th></th>\n",
       "      <th></th>\n",
       "      <th></th>\n",
       "      <th></th>\n",
       "      <th></th>\n",
       "      <th></th>\n",
       "      <th></th>\n",
       "      <th></th>\n",
       "      <th></th>\n",
       "      <th></th>\n",
       "      <th></th>\n",
       "    </tr>\n",
       "  </thead>\n",
       "  <tbody>\n",
       "    <tr>\n",
       "      <th>2019-04-02 22:18:47.926000+00:00</th>\n",
       "      <td>2019-04-02 22:24:25.427000+00:00</td>\n",
       "      <td>337</td>\n",
       "      <td>401</td>\n",
       "      <td>Schous plass</td>\n",
       "      <td>nærmest Thorvald Meyers gate</td>\n",
       "      <td>59,920259</td>\n",
       "      <td>10,760629</td>\n",
       "      <td>381</td>\n",
       "      <td>Grønlands torg</td>\n",
       "      <td>ved Tøyenbekken</td>\n",
       "      <td>59,91252</td>\n",
       "      <td>10,76224</td>\n",
       "    </tr>\n",
       "    <tr>\n",
       "      <th>2019-04-02 22:25:54.203000+00:00</th>\n",
       "      <td>2019-04-02 22:27:36.114000+00:00</td>\n",
       "      <td>101</td>\n",
       "      <td>556</td>\n",
       "      <td>Pilestredet</td>\n",
       "      <td>ved Sporveisgata</td>\n",
       "      <td>59,9262242</td>\n",
       "      <td>10,7296246</td>\n",
       "      <td>556</td>\n",
       "      <td>Pilestredet</td>\n",
       "      <td>ved Sporveisgata</td>\n",
       "      <td>59,9262242</td>\n",
       "      <td>10,7296246</td>\n",
       "    </tr>\n",
       "    <tr>\n",
       "      <th>2019-04-02 22:26:39.308000+00:00</th>\n",
       "      <td>2019-04-02 22:31:59.445000+00:00</td>\n",
       "      <td>320</td>\n",
       "      <td>561</td>\n",
       "      <td>Kirkeveien</td>\n",
       "      <td>nord for Gørbitz' gate</td>\n",
       "      <td>59,9335582</td>\n",
       "      <td>10,7264261</td>\n",
       "      <td>471</td>\n",
       "      <td>Marienlyst</td>\n",
       "      <td>i Suhms gate</td>\n",
       "      <td>59,932454</td>\n",
       "      <td>10,721769</td>\n",
       "    </tr>\n",
       "    <tr>\n",
       "      <th>2019-04-03 03:09:58.992000+00:00</th>\n",
       "      <td>2019-04-03 03:12:00.589000+00:00</td>\n",
       "      <td>121</td>\n",
       "      <td>393</td>\n",
       "      <td>Hans Nielsen Hauges plass</td>\n",
       "      <td>Mellom Åsengata og Nordkappgata</td>\n",
       "      <td>59,939244</td>\n",
       "      <td>10,774319</td>\n",
       "      <td>393</td>\n",
       "      <td>Hans Nielsen Hauges plass</td>\n",
       "      <td>Mellom Åsengata og Nordkappgata</td>\n",
       "      <td>59,939244</td>\n",
       "      <td>10,774319</td>\n",
       "    </tr>\n",
       "    <tr>\n",
       "      <th>2019-04-03 03:10:02.415000+00:00</th>\n",
       "      <td>2019-04-03 03:14:44.537000+00:00</td>\n",
       "      <td>282</td>\n",
       "      <td>597</td>\n",
       "      <td>Fredensborg</td>\n",
       "      <td>ved rundkjøringen</td>\n",
       "      <td>59,920995</td>\n",
       "      <td>10,750358</td>\n",
       "      <td>557</td>\n",
       "      <td>Akersgata</td>\n",
       "      <td>ved Grensen</td>\n",
       "      <td>59,9141971</td>\n",
       "      <td>10,7428828</td>\n",
       "    </tr>\n",
       "  </tbody>\n",
       "</table>\n",
       "</div>"
      ],
      "text/plain": [
       "                                                         ended_at  duration  \\\n",
       "started_at                                                                    \n",
       "2019-04-02 22:18:47.926000+00:00 2019-04-02 22:24:25.427000+00:00       337   \n",
       "2019-04-02 22:25:54.203000+00:00 2019-04-02 22:27:36.114000+00:00       101   \n",
       "2019-04-02 22:26:39.308000+00:00 2019-04-02 22:31:59.445000+00:00       320   \n",
       "2019-04-03 03:09:58.992000+00:00 2019-04-03 03:12:00.589000+00:00       121   \n",
       "2019-04-03 03:10:02.415000+00:00 2019-04-03 03:14:44.537000+00:00       282   \n",
       "\n",
       "                                  start_station_id         start_station_name  \\\n",
       "started_at                                                                      \n",
       "2019-04-02 22:18:47.926000+00:00               401               Schous plass   \n",
       "2019-04-02 22:25:54.203000+00:00               556                Pilestredet   \n",
       "2019-04-02 22:26:39.308000+00:00               561                 Kirkeveien   \n",
       "2019-04-03 03:09:58.992000+00:00               393  Hans Nielsen Hauges plass   \n",
       "2019-04-03 03:10:02.415000+00:00               597                Fredensborg   \n",
       "\n",
       "                                        start_station_description  \\\n",
       "started_at                                                          \n",
       "2019-04-02 22:18:47.926000+00:00     nærmest Thorvald Meyers gate   \n",
       "2019-04-02 22:25:54.203000+00:00                 ved Sporveisgata   \n",
       "2019-04-02 22:26:39.308000+00:00           nord for Gørbitz' gate   \n",
       "2019-04-03 03:09:58.992000+00:00  Mellom Åsengata og Nordkappgata   \n",
       "2019-04-03 03:10:02.415000+00:00                ved rundkjøringen   \n",
       "\n",
       "                                 start_station_latitude  \\\n",
       "started_at                                                \n",
       "2019-04-02 22:18:47.926000+00:00              59,920259   \n",
       "2019-04-02 22:25:54.203000+00:00             59,9262242   \n",
       "2019-04-02 22:26:39.308000+00:00             59,9335582   \n",
       "2019-04-03 03:09:58.992000+00:00              59,939244   \n",
       "2019-04-03 03:10:02.415000+00:00              59,920995   \n",
       "\n",
       "                                 start_station_longitude  end_station_id  \\\n",
       "started_at                                                                 \n",
       "2019-04-02 22:18:47.926000+00:00               10,760629             381   \n",
       "2019-04-02 22:25:54.203000+00:00              10,7296246             556   \n",
       "2019-04-02 22:26:39.308000+00:00              10,7264261             471   \n",
       "2019-04-03 03:09:58.992000+00:00               10,774319             393   \n",
       "2019-04-03 03:10:02.415000+00:00               10,750358             557   \n",
       "\n",
       "                                           end_station_name  \\\n",
       "started_at                                                    \n",
       "2019-04-02 22:18:47.926000+00:00             Grønlands torg   \n",
       "2019-04-02 22:25:54.203000+00:00                Pilestredet   \n",
       "2019-04-02 22:26:39.308000+00:00                 Marienlyst   \n",
       "2019-04-03 03:09:58.992000+00:00  Hans Nielsen Hauges plass   \n",
       "2019-04-03 03:10:02.415000+00:00                  Akersgata   \n",
       "\n",
       "                                          end_station_description  \\\n",
       "started_at                                                          \n",
       "2019-04-02 22:18:47.926000+00:00                  ved Tøyenbekken   \n",
       "2019-04-02 22:25:54.203000+00:00                 ved Sporveisgata   \n",
       "2019-04-02 22:26:39.308000+00:00                     i Suhms gate   \n",
       "2019-04-03 03:09:58.992000+00:00  Mellom Åsengata og Nordkappgata   \n",
       "2019-04-03 03:10:02.415000+00:00                      ved Grensen   \n",
       "\n",
       "                                 end_station_latitude end_station_longitude  \n",
       "started_at                                                                   \n",
       "2019-04-02 22:18:47.926000+00:00             59,91252              10,76224  \n",
       "2019-04-02 22:25:54.203000+00:00           59,9262242            10,7296246  \n",
       "2019-04-02 22:26:39.308000+00:00            59,932454             10,721769  \n",
       "2019-04-03 03:09:58.992000+00:00            59,939244             10,774319  \n",
       "2019-04-03 03:10:02.415000+00:00           59,9141971            10,7428828  "
      ]
     },
     "execution_count": 25,
     "metadata": {},
     "output_type": "execute_result"
    }
   ],
   "source": [
    "df_19['started_at'] = pd.to_datetime(df_19['started_at'])\n",
    "df_20['started_at'] = pd.to_datetime(df_20['started_at'])\n",
    "df_19_time = df_19.set_index('started_at')\n",
    "df_20_time = df_20.set_index('started_at')\n",
    "df_19_time.head()"
   ]
  },
  {
   "cell_type": "code",
   "execution_count": 26,
   "metadata": {},
   "outputs": [
    {
     "data": {
      "text/plain": [
       "DatetimeIndex(['2019-04-02 22:18:47.926000+00:00',\n",
       "               '2019-04-02 22:25:54.203000+00:00',\n",
       "               '2019-04-02 22:26:39.308000+00:00',\n",
       "               '2019-04-03 03:09:58.992000+00:00',\n",
       "               '2019-04-03 03:10:02.415000+00:00',\n",
       "               '2019-04-03 03:16:21.557000+00:00',\n",
       "               '2019-04-03 03:39:11.948000+00:00',\n",
       "               '2019-04-03 03:43:38.513000+00:00',\n",
       "               '2019-04-03 03:46:23.126000+00:00',\n",
       "               '2019-04-03 03:50:36.147000+00:00',\n",
       "               ...\n",
       "               '2019-04-29 21:12:33.762000+00:00',\n",
       "               '2019-04-29 21:15:32.781000+00:00',\n",
       "               '2019-04-29 21:15:46.763000+00:00',\n",
       "               '2019-04-29 21:16:55.822000+00:00',\n",
       "               '2019-04-29 21:26:12.063000+00:00',\n",
       "               '2019-04-29 21:29:19.642000+00:00',\n",
       "               '2019-04-29 21:35:52.924000+00:00',\n",
       "               '2019-04-29 21:45:11.161000+00:00',\n",
       "               '2019-04-29 21:48:59.960000+00:00',\n",
       "               '2019-04-29 22:50:42.121000+00:00'],\n",
       "              dtype='datetime64[ns, UTC]', name='started_at', length=235713, freq=None)"
      ]
     },
     "execution_count": 26,
     "metadata": {},
     "output_type": "execute_result"
    }
   ],
   "source": [
    "df_19_time.index"
   ]
  },
  {
   "cell_type": "code",
   "execution_count": 27,
   "metadata": {},
   "outputs": [],
   "source": [
    "df_19_counts = df_19_time.resample('D').count()\n",
    "df_20_counts = df_20_time.resample('D').count()\n",
    "df_19_counts.index = df_19_counts.index.shift(periods=365)\n",
    "df_19_counts['year'] = '2019'\n",
    "df_20_counts['year'] = '2020'\n",
    "df_counts = pd.concat([df_19_counts,df_20_counts],sort=True)"
   ]
  },
  {
   "cell_type": "code",
   "execution_count": 28,
   "metadata": {},
   "outputs": [
    {
     "name": "stderr",
     "output_type": "stream",
     "text": [
      "/home/alle/.local/lib/python3.5/site-packages/pandas/core/arrays/datetimes.py:1172: UserWarning: Converting to PeriodArray/Index representation will drop timezone information.\n",
      "  \"will drop timezone information.\", UserWarning)\n",
      "/home/alle/.local/lib/python3.5/site-packages/pandas/core/arrays/datetimes.py:1172: UserWarning: Converting to PeriodArray/Index representation will drop timezone information.\n",
      "  \"will drop timezone information.\", UserWarning)\n"
     ]
    },
    {
     "data": {
      "text/plain": [
       "Text(0.5, 1.0, 'Total bike rides per month day in April')"
      ]
     },
     "execution_count": 28,
     "metadata": {},
     "output_type": "execute_result"
    },
    {
     "data": {
      "image/png": "[encoded data removed]",
      "text/plain": [
       "<Figure size 432x288 with 1 Axes>"
      ]
     },
     "metadata": {},
     "output_type": "display_data"
    }
   ],
   "source": [
    "df_19_counts.iloc[:,0].plot()\n",
    "df_20_counts.iloc[:,0].plot()\n",
    "plt.legend(['2019','2020'])\n",
    "plt.title('Total bike rides per month day in April')"
   ]
  },
  {
   "cell_type": "markdown",
   "metadata": {},
   "source": [
    "If we plot alongside the 2019 and 2020 data, we can see that almost every day of the month there have been fewer rides in 2020. In particular, the gap narrows towards the 20th of April, and then widens again. This may coincide with naive considerations, because the week 12-19 was Easter week in 2020. At the eye test we had the impression that people were going out more than in the past weeks.\n",
    "\n",
    "However, this study is not conclusive: before drawing conclusions we should account for the weather and for the day of the week."
   ]
  },
  {
   "cell_type": "code",
   "execution_count": 29,
   "metadata": {},
   "outputs": [
    {
     "data": {
      "text/plain": [
       "started_at\n",
       "2020-04-01 00:00:00+00:00    946.000000\n",
       "2020-04-02 00:00:00+00:00     -0.572964\n",
       "2020-04-03 00:00:00+00:00     -0.633101\n",
       "2020-04-04 00:00:00+00:00     -0.609373\n",
       "2020-04-05 00:00:00+00:00     -0.731902\n",
       "Freq: D, Name: ended_at, dtype: float64"
      ]
     },
     "execution_count": 29,
     "metadata": {},
     "output_type": "execute_result"
    }
   ],
   "source": [
    "df_variations = (df_20_counts.iloc[:,0] - df_19_counts.iloc[:,0]) / df_19_counts.iloc[:,0]\n",
    "df_variations.head()"
   ]
  },
  {
   "cell_type": "code",
   "execution_count": 30,
   "metadata": {},
   "outputs": [
    {
     "data": {
      "text/plain": [
       "<matplotlib.axes._subplots.AxesSubplot at 0x7f98a8a85978>"
      ]
     },
     "execution_count": 30,
     "metadata": {},
     "output_type": "execute_result"
    },
    {
     "data": {
      "image/png": "[encoded data removed]",
      "text/plain": [
       "<Figure size 432x288 with 1 Axes>"
      ]
     },
     "metadata": {},
     "output_type": "display_data"
    }
   ],
   "source": [
    "df_variations.iloc[1:-1].plot(kind='bar')"
   ]
  },
  {
   "cell_type": "markdown",
   "metadata": {},
   "source": [
    "As we saw in the line chart, the relative variation compared to 2019 has been slimmer around the 20th of April, and near the end of the month got back to levels similar to the week 5-12."
   ]
  },
  {
   "cell_type": "markdown",
   "metadata": {},
   "source": [
    "This brief study is able to tell detect a spike in mobility in the period 12th-19th of April, which was Easter week in 2020. This surely denote the fact that in those days the situation was similar to 2019, so it may hint at an ease of the lockdown, or at a less strict following of the lockdown rules by the population. Even with simple mobility data, we can see a clear increase in mobility to levels similar to 2019.\n",
    "\n",
    "This is not conclusive on the _reasons_ though. We would be able to say more about this by plugging in weather data, the day of the week and the days when restrictions were lifted."
   ]
  }
 ],
 "metadata": {
  "kernelspec": {
   "display_name": "Python 3",
   "language": "python",
   "name": "python3"
  },
  "language_info": {
   "codemirror_mode": {
    "name": "ipython",
    "version": 3
   },
   "file_extension": ".py",
   "mimetype": "text/x-python",
   "name": "python",
   "nbconvert_exporter": "python",
   "pygments_lexer": "ipython3",
   "version": "3.5.2"
  }
 },
 "nbformat": 4,
 "nbformat_minor": 2
}
