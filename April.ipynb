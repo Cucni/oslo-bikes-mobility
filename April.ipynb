{
 "cells": [
  {
   "cell_type": "markdown",
   "metadata": {},
   "source": [
    "# Lockdown intensity through public bikes mobility data"
   ]
  },
  {
   "cell_type": "markdown",
   "metadata": {},
   "source": [
    "## Table of contents\n",
    "1. [Introduction](#introduction)\n",
    "2. [Setup and total variation](#setup)\n",
    "3. [Analysis of the rides duration](#duration-analysis)\n",
    "    1. [Detection and removal of outliers](#outliers)\n",
    "    2. [Distribution of the rides duration](#distribution)\n",
    "4. [Time series analysis](#time-series)\n",
    "    1. [Variation during the month](#month)\n",
    "    2. [Variation by day of the week](#weekday)\n",
    "    3. [Variation by week](#week)\n",
    "5. [Conclusions and further work](#conclusions)"
   ]
  },
  {
   "cell_type": "markdown",
   "metadata": {},
   "source": [
    "## Introduction <a name=\"introduction\"></a>\n",
    "\n",
    "In this analysis I analyze data on Oslo public bikes during the month of April 2020. The goal is to deduce insights on the biking and overall mobility in that month, and on the intenstity of the lockdown in Oslo.\n",
    "\n",
    "\n",
    "\n",
    "In general, the harder the lockdown, and the more it is respected by the public, the fewer the people travelling. Therefore it should be possible to assess how strong the restrictions are, and how closely people are following them, by looking at mobility data.\n",
    "\n",
    "In this analysis I'm going to look at data about the use of the public shared bikes provided by the city of Oslo. I will compare the April 2020 usage data with April 2019 data, which will be my baseline. As a consequence of the lockdown imposed in response to the spread of Covid-19, I expect to see a decrease in the number of travels. I will also try to answer other questions with this analysis\n",
    "- Is there any trend in the expected decrease along the month? For example, did people pick up bikes more (possibly reaching 2019-like levels) as the month passed by? This could be an indication that the lockdown was eased or less observed by the residents.\n",
    "    - Is this a day-to-day trend? A week-by-week trend?\n",
    "- Is there any difference on the expected decrease due to other factors? For example, do factors such as the day of the week, or the type of travel (leisure, commute) play a role?\n",
    "- Do factors such as public holidays, or the weather play a role?"
   ]
  },
  {
   "cell_type": "markdown",
   "metadata": {},
   "source": [
    "## Setup and total variation <a name=\"setup\"></a>"
   ]
  },
  {
   "cell_type": "markdown",
   "metadata": {},
   "source": [
    "I will start from a very simple consideration: the variation of total rides and total rides duration. I will then do a more in-depth analysis, starting with cleaning the data and identifying outliers."
   ]
  },
  {
   "cell_type": "code",
   "execution_count": 1,
   "metadata": {},
   "outputs": [],
   "source": [
    "#Pandas and Numpy for data manipulation\n",
    "import pandas as pd\n",
    "import numpy as np\n",
    "\n",
    "#Pyplot and Seaborn for data visualization\n",
    "import matplotlib.pyplot as plt\n",
    "import seaborn as sns\n",
    "sns.set_style('darkgrid')\n",
    "\n",
    "#Collection of function used in the notebook\n",
    "import april"
   ]
  },
  {
   "cell_type": "code",
   "execution_count": 2,
   "metadata": {},
   "outputs": [
    {
     "data": {
      "text/html": [
       "<div>\n",
       "<style scoped>\n",
       "    .dataframe tbody tr th:only-of-type {\n",
       "        vertical-align: middle;\n",
       "    }\n",
       "\n",
       "    .dataframe tbody tr th {\n",
       "        vertical-align: top;\n",
       "    }\n",
       "\n",
       "    .dataframe thead th {\n",
       "        text-align: right;\n",
       "    }\n",
       "</style>\n",
       "<table border=\"1\" class=\"dataframe\">\n",
       "  <thead>\n",
       "    <tr style=\"text-align: right;\">\n",
       "      <th></th>\n",
       "      <th>started_at</th>\n",
       "      <th>ended_at</th>\n",
       "      <th>duration</th>\n",
       "      <th>start_station_id</th>\n",
       "      <th>start_station_name</th>\n",
       "      <th>start_station_description</th>\n",
       "      <th>start_station_latitude</th>\n",
       "      <th>start_station_longitude</th>\n",
       "      <th>end_station_id</th>\n",
       "      <th>end_station_name</th>\n",
       "      <th>end_station_description</th>\n",
       "      <th>end_station_latitude</th>\n",
       "      <th>end_station_longitude</th>\n",
       "    </tr>\n",
       "  </thead>\n",
       "  <tbody>\n",
       "    <tr>\n",
       "      <th>0</th>\n",
       "      <td>2019-04-02 22:18:47.926</td>\n",
       "      <td>2019-04-02 22:24:25.427</td>\n",
       "      <td>337</td>\n",
       "      <td>401</td>\n",
       "      <td>Schous plass</td>\n",
       "      <td>nærmest Thorvald Meyers gate</td>\n",
       "      <td>59,920259</td>\n",
       "      <td>10,760629</td>\n",
       "      <td>381</td>\n",
       "      <td>Grønlands torg</td>\n",
       "      <td>ved Tøyenbekken</td>\n",
       "      <td>59,91252</td>\n",
       "      <td>10,76224</td>\n",
       "    </tr>\n",
       "    <tr>\n",
       "      <th>1</th>\n",
       "      <td>2019-04-02 22:25:54.203</td>\n",
       "      <td>2019-04-02 22:27:36.114</td>\n",
       "      <td>101</td>\n",
       "      <td>556</td>\n",
       "      <td>Pilestredet</td>\n",
       "      <td>ved Sporveisgata</td>\n",
       "      <td>59,9262242</td>\n",
       "      <td>10,7296246</td>\n",
       "      <td>556</td>\n",
       "      <td>Pilestredet</td>\n",
       "      <td>ved Sporveisgata</td>\n",
       "      <td>59,9262242</td>\n",
       "      <td>10,7296246</td>\n",
       "    </tr>\n",
       "    <tr>\n",
       "      <th>2</th>\n",
       "      <td>2019-04-02 22:26:39.308</td>\n",
       "      <td>2019-04-02 22:31:59.445</td>\n",
       "      <td>320</td>\n",
       "      <td>561</td>\n",
       "      <td>Kirkeveien</td>\n",
       "      <td>nord for Gørbitz' gate</td>\n",
       "      <td>59,9335582</td>\n",
       "      <td>10,7264261</td>\n",
       "      <td>471</td>\n",
       "      <td>Marienlyst</td>\n",
       "      <td>i Suhms gate</td>\n",
       "      <td>59,932454</td>\n",
       "      <td>10,721769</td>\n",
       "    </tr>\n",
       "    <tr>\n",
       "      <th>3</th>\n",
       "      <td>2019-04-03 03:09:58.992</td>\n",
       "      <td>2019-04-03 03:12:00.589</td>\n",
       "      <td>121</td>\n",
       "      <td>393</td>\n",
       "      <td>Hans Nielsen Hauges plass</td>\n",
       "      <td>Mellom Åsengata og Nordkappgata</td>\n",
       "      <td>59,939244</td>\n",
       "      <td>10,774319</td>\n",
       "      <td>393</td>\n",
       "      <td>Hans Nielsen Hauges plass</td>\n",
       "      <td>Mellom Åsengata og Nordkappgata</td>\n",
       "      <td>59,939244</td>\n",
       "      <td>10,774319</td>\n",
       "    </tr>\n",
       "    <tr>\n",
       "      <th>4</th>\n",
       "      <td>2019-04-03 03:10:02.415</td>\n",
       "      <td>2019-04-03 03:14:44.537</td>\n",
       "      <td>282</td>\n",
       "      <td>597</td>\n",
       "      <td>Fredensborg</td>\n",
       "      <td>ved rundkjøringen</td>\n",
       "      <td>59,920995</td>\n",
       "      <td>10,750358</td>\n",
       "      <td>557</td>\n",
       "      <td>Akersgata</td>\n",
       "      <td>ved Grensen</td>\n",
       "      <td>59,9141971</td>\n",
       "      <td>10,7428828</td>\n",
       "    </tr>\n",
       "  </tbody>\n",
       "</table>\n",
       "</div>"
      ],
      "text/plain": [
       "               started_at                ended_at  duration  start_station_id  \\\n",
       "0 2019-04-02 22:18:47.926 2019-04-02 22:24:25.427       337               401   \n",
       "1 2019-04-02 22:25:54.203 2019-04-02 22:27:36.114       101               556   \n",
       "2 2019-04-02 22:26:39.308 2019-04-02 22:31:59.445       320               561   \n",
       "3 2019-04-03 03:09:58.992 2019-04-03 03:12:00.589       121               393   \n",
       "4 2019-04-03 03:10:02.415 2019-04-03 03:14:44.537       282               597   \n",
       "\n",
       "          start_station_name        start_station_description  \\\n",
       "0               Schous plass     nærmest Thorvald Meyers gate   \n",
       "1                Pilestredet                 ved Sporveisgata   \n",
       "2                 Kirkeveien           nord for Gørbitz' gate   \n",
       "3  Hans Nielsen Hauges plass  Mellom Åsengata og Nordkappgata   \n",
       "4                Fredensborg                ved rundkjøringen   \n",
       "\n",
       "  start_station_latitude start_station_longitude  end_station_id  \\\n",
       "0              59,920259               10,760629             381   \n",
       "1             59,9262242              10,7296246             556   \n",
       "2             59,9335582              10,7264261             471   \n",
       "3              59,939244               10,774319             393   \n",
       "4              59,920995               10,750358             557   \n",
       "\n",
       "            end_station_name          end_station_description  \\\n",
       "0             Grønlands torg                  ved Tøyenbekken   \n",
       "1                Pilestredet                 ved Sporveisgata   \n",
       "2                 Marienlyst                     i Suhms gate   \n",
       "3  Hans Nielsen Hauges plass  Mellom Åsengata og Nordkappgata   \n",
       "4                  Akersgata                      ved Grensen   \n",
       "\n",
       "  end_station_latitude end_station_longitude  \n",
       "0             59,91252              10,76224  \n",
       "1           59,9262242            10,7296246  \n",
       "2            59,932454             10,721769  \n",
       "3            59,939244             10,774319  \n",
       "4           59,9141971            10,7428828  "
      ]
     },
     "execution_count": 2,
     "metadata": {},
     "output_type": "execute_result"
    }
   ],
   "source": [
    "#Import data\n",
    "df_19 = pd.read_csv('04-2019.csv',parse_dates=[0,1])\n",
    "df_20 = pd.read_csv('04-2020.csv',parse_dates=[0,1])\n",
    "df_19.head()"
   ]
  },
  {
   "cell_type": "code",
   "execution_count": 3,
   "metadata": {},
   "outputs": [
    {
     "data": {
      "text/plain": [
       "started_at                   datetime64[ns]\n",
       "ended_at                     datetime64[ns]\n",
       "duration                              int64\n",
       "start_station_id                      int64\n",
       "start_station_name                   object\n",
       "start_station_description            object\n",
       "start_station_latitude               object\n",
       "start_station_longitude              object\n",
       "end_station_id                        int64\n",
       "end_station_name                     object\n",
       "end_station_description              object\n",
       "end_station_latitude                 object\n",
       "end_station_longitude                object\n",
       "dtype: object"
      ]
     },
     "execution_count": 3,
     "metadata": {},
     "output_type": "execute_result"
    }
   ],
   "source": [
    "df_19.dtypes"
   ]
  },
  {
   "cell_type": "code",
   "execution_count": 4,
   "metadata": {},
   "outputs": [
    {
     "name": "stdout",
     "output_type": "stream",
     "text": [
      "<class 'pandas.core.frame.DataFrame'>\n",
      "RangeIndex: 235713 entries, 0 to 235712\n",
      "Data columns (total 13 columns):\n",
      "started_at                   235713 non-null datetime64[ns]\n",
      "ended_at                     235713 non-null datetime64[ns]\n",
      "duration                     235713 non-null int64\n",
      "start_station_id             235713 non-null int64\n",
      "start_station_name           235713 non-null object\n",
      "start_station_description    235713 non-null object\n",
      "start_station_latitude       235713 non-null object\n",
      "start_station_longitude      235713 non-null object\n",
      "end_station_id               235713 non-null int64\n",
      "end_station_name             235713 non-null object\n",
      "end_station_description      235713 non-null object\n",
      "end_station_latitude         235713 non-null object\n",
      "end_station_longitude        235713 non-null object\n",
      "dtypes: datetime64[ns](2), int64(3), object(8)\n",
      "memory usage: 23.4+ MB\n"
     ]
    }
   ],
   "source": [
    "df_19.info()"
   ]
  },
  {
   "cell_type": "markdown",
   "metadata": {},
   "source": [
    "The dataset has no missing values, and the data types correctly represent the data."
   ]
  },
  {
   "cell_type": "code",
   "execution_count": 5,
   "metadata": {},
   "outputs": [
    {
     "name": "stdout",
     "output_type": "stream",
     "text": [
      "The relative variation in the number of total rides is -0.5019154649934454\n"
     ]
    }
   ],
   "source": [
    "#Compute the variation in the number of total rides, note that length of index = number of rides\n",
    "total_rides_variation = (len(df_20.index) / len(df_19.index)) - 1\n",
    "print(f\"The relative variation in the number of total rides is {total_rides_variation}\")"
   ]
  },
  {
   "cell_type": "markdown",
   "metadata": {},
   "source": [
    "Compared to 2019, there have been 50.19% fewer rides in 2020. There is no doubt that the main cause of this stark decrease was the lockdown caused by the Covid-19 pandemic."
   ]
  },
  {
   "cell_type": "markdown",
   "metadata": {},
   "source": [
    "## Analysis of the rides duration <a name=\"duration-analysis\"></a>"
   ]
  },
  {
   "cell_type": "markdown",
   "metadata": {},
   "source": [
    "### Detection and removal of outliers <a name=\"outliers\"></a>"
   ]
  },
  {
   "cell_type": "code",
   "execution_count": 6,
   "metadata": {},
   "outputs": [
    {
     "data": {
      "text/plain": [
       "0    337\n",
       "1    101\n",
       "2    320\n",
       "3    121\n",
       "4    282\n",
       "Name: duration, dtype: int64"
      ]
     },
     "execution_count": 6,
     "metadata": {},
     "output_type": "execute_result"
    }
   ],
   "source": [
    "#Durations are in seconds\n",
    "df_19['duration'].head()"
   ]
  },
  {
   "cell_type": "code",
   "execution_count": 7,
   "metadata": {},
   "outputs": [
    {
     "name": "stdout",
     "output_type": "stream",
     "text": [
      "The relative variation in the total rides duration is -0.4597291706479003\n"
     ]
    }
   ],
   "source": [
    "#Compute the variation in the total rides duration, by summing over the \"duration\" column\n",
    "total_duration_2019 = df_19['duration'].sum()\n",
    "total_duration_2020 = df_20['duration'].sum()\n",
    "total_duration_variation = (total_duration_2020 / total_duration_2019) -1\n",
    "print(f\"The relative variation in the total rides duration is {total_duration_variation}\")"
   ]
  },
  {
   "cell_type": "markdown",
   "metadata": {},
   "source": [
    "Compared to 2019, the total time traveled has shrinked by 45.97%. Again, this stark decrease is mainly caused mainly in the lockdown. I'd like to highlight that the total time traveled has decreased less than the total number of rides. Therefore the average duration of a ride has actually increased. Let's then investigate the distribution of the rides durations in the two years."
   ]
  },
  {
   "cell_type": "code",
   "execution_count": 8,
   "metadata": {},
   "outputs": [
    {
     "data": {
      "text/plain": [
       "count    2.357130e+05\n",
       "mean     8.875432e+02\n",
       "std      6.237237e+03\n",
       "min      6.100000e+01\n",
       "25%      3.300000e+02\n",
       "50%      5.310000e+02\n",
       "75%      8.890000e+02\n",
       "max      1.135407e+06\n",
       "Name: duration, dtype: float64"
      ]
     },
     "execution_count": 8,
     "metadata": {},
     "output_type": "execute_result"
    }
   ],
   "source": [
    "df_19['duration'].describe()"
   ]
  },
  {
   "cell_type": "markdown",
   "metadata": {},
   "source": [
    "The maximum duration is way larger than the 75-th percentile, it is greater by a 10³ factor. This suggests that there are some outliers. Notice that there is no such problem on the lower tail of the duration series, as the minimum is reasonably lower than the 25-th percentile. I now try to investigate this deeper."
   ]
  },
  {
   "cell_type": "code",
   "execution_count": 9,
   "metadata": {},
   "outputs": [
    {
     "data": {
      "image/png": "[encoded data removed]",
      "text/plain": [
       "<Figure size 432x288 with 1 Axes>"
      ]
     },
     "metadata": {
      "needs_background": "light"
     },
     "output_type": "display_data"
    }
   ],
   "source": [
    "#Box plot showing univariate distribution\n",
    "df_19['duration'].plot(kind='box');"
   ]
  },
  {
   "cell_type": "markdown",
   "metadata": {},
   "source": [
    "The box plot appears completely flat, and there are few points way off."
   ]
  },
  {
   "cell_type": "code",
   "execution_count": 10,
   "metadata": {},
   "outputs": [
    {
     "data": {
      "text/html": [
       "<div>\n",
       "<style scoped>\n",
       "    .dataframe tbody tr th:only-of-type {\n",
       "        vertical-align: middle;\n",
       "    }\n",
       "\n",
       "    .dataframe tbody tr th {\n",
       "        vertical-align: top;\n",
       "    }\n",
       "\n",
       "    .dataframe thead th {\n",
       "        text-align: right;\n",
       "    }\n",
       "</style>\n",
       "<table border=\"1\" class=\"dataframe\">\n",
       "  <thead>\n",
       "    <tr style=\"text-align: right;\">\n",
       "      <th></th>\n",
       "      <th>started_at</th>\n",
       "      <th>ended_at</th>\n",
       "      <th>duration</th>\n",
       "      <th>start_station_id</th>\n",
       "      <th>start_station_name</th>\n",
       "      <th>start_station_description</th>\n",
       "      <th>start_station_latitude</th>\n",
       "      <th>start_station_longitude</th>\n",
       "      <th>end_station_id</th>\n",
       "      <th>end_station_name</th>\n",
       "      <th>end_station_description</th>\n",
       "      <th>end_station_latitude</th>\n",
       "      <th>end_station_longitude</th>\n",
       "    </tr>\n",
       "  </thead>\n",
       "  <tbody>\n",
       "    <tr>\n",
       "      <th>10673</th>\n",
       "      <td>2019-04-04 15:55:17.918</td>\n",
       "      <td>2019-04-16 17:10:45.381</td>\n",
       "      <td>1041327</td>\n",
       "      <td>574</td>\n",
       "      <td>Annette Thommessens Plass</td>\n",
       "      <td>langs Schweigaards gate</td>\n",
       "      <td>59,9107393</td>\n",
       "      <td>10,7609998</td>\n",
       "      <td>588</td>\n",
       "      <td>Meltzers gate</td>\n",
       "      <td>ved Skovveien</td>\n",
       "      <td>59,9180141</td>\n",
       "      <td>10,7184345</td>\n",
       "    </tr>\n",
       "    <tr>\n",
       "      <th>22812</th>\n",
       "      <td>2019-04-06 12:12:32.245</td>\n",
       "      <td>2019-04-19 15:35:59.607</td>\n",
       "      <td>1135407</td>\n",
       "      <td>613</td>\n",
       "      <td>Schives gate</td>\n",
       "      <td>ved Arno Bergs plass</td>\n",
       "      <td>59,9208044</td>\n",
       "      <td>10,7140544</td>\n",
       "      <td>532</td>\n",
       "      <td>Bryn T-Bane</td>\n",
       "      <td>Ved Østensjøveien</td>\n",
       "      <td>59,909238</td>\n",
       "      <td>10,814199</td>\n",
       "    </tr>\n",
       "    <tr>\n",
       "      <th>82710</th>\n",
       "      <td>2019-04-13 18:31:33.384</td>\n",
       "      <td>2019-04-26 21:09:08.363</td>\n",
       "      <td>1132654</td>\n",
       "      <td>437</td>\n",
       "      <td>Sentrum Scene</td>\n",
       "      <td>ved Arbeidersamfunnets plass</td>\n",
       "      <td>59,915484</td>\n",
       "      <td>10,7510765</td>\n",
       "      <td>436</td>\n",
       "      <td>Vestkanttorvet</td>\n",
       "      <td>langs Tidemands gate</td>\n",
       "      <td>59,9244031</td>\n",
       "      <td>10,7130691</td>\n",
       "    </tr>\n",
       "  </tbody>\n",
       "</table>\n",
       "</div>"
      ],
      "text/plain": [
       "                   started_at                ended_at  duration  \\\n",
       "10673 2019-04-04 15:55:17.918 2019-04-16 17:10:45.381   1041327   \n",
       "22812 2019-04-06 12:12:32.245 2019-04-19 15:35:59.607   1135407   \n",
       "82710 2019-04-13 18:31:33.384 2019-04-26 21:09:08.363   1132654   \n",
       "\n",
       "       start_station_id         start_station_name  \\\n",
       "10673               574  Annette Thommessens Plass   \n",
       "22812               613               Schives gate   \n",
       "82710               437              Sentrum Scene   \n",
       "\n",
       "          start_station_description start_station_latitude  \\\n",
       "10673       langs Schweigaards gate             59,9107393   \n",
       "22812          ved Arno Bergs plass             59,9208044   \n",
       "82710  ved Arbeidersamfunnets plass              59,915484   \n",
       "\n",
       "      start_station_longitude  end_station_id end_station_name  \\\n",
       "10673              10,7609998             588    Meltzers gate   \n",
       "22812              10,7140544             532      Bryn T-Bane   \n",
       "82710              10,7510765             436   Vestkanttorvet   \n",
       "\n",
       "      end_station_description end_station_latitude end_station_longitude  \n",
       "10673           ved Skovveien           59,9180141            10,7184345  \n",
       "22812       Ved Østensjøveien            59,909238             10,814199  \n",
       "82710    langs Tidemands gate           59,9244031            10,7130691  "
      ]
     },
     "execution_count": 10,
     "metadata": {},
     "output_type": "execute_result"
    }
   ],
   "source": [
    "#Select the points way up in the graph\n",
    "outliers_19 = df_19[df_19['duration'] > 1000000]\n",
    "outliers_19"
   ]
  },
  {
   "cell_type": "markdown",
   "metadata": {},
   "source": [
    "These three rides have a duration of 12-13 days. This is unusual at best, and likely an indication of some error in the measurement or of some misuse. As these rides are not representative of the standard usage, I drop them."
   ]
  },
  {
   "cell_type": "code",
   "execution_count": 11,
   "metadata": {},
   "outputs": [
    {
     "data": {
      "text/plain": [
       "235710"
      ]
     },
     "execution_count": 11,
     "metadata": {},
     "output_type": "execute_result"
    }
   ],
   "source": [
    "#Compute new number of rides\n",
    "df_19 = df_19.drop(outliers_19.index)\n",
    "len(df_19.index)"
   ]
  },
  {
   "cell_type": "code",
   "execution_count": 12,
   "metadata": {},
   "outputs": [
    {
     "data": {
      "image/png": "[encoded data removed]",
      "text/plain": [
       "<Figure size 432x288 with 1 Axes>"
      ]
     },
     "metadata": {
      "needs_background": "light"
     },
     "output_type": "display_data"
    }
   ],
   "source": [
    "#Updated box plot showing univariate distribution\n",
    "df_19['duration'].plot(kind='box');"
   ]
  },
  {
   "cell_type": "markdown",
   "metadata": {},
   "source": [
    "As the box plot is still flat, it is clear that I have to remove further outliers. I will detect outliers using the Z-score, which is the number of standard deviations that a datum is above or below the median. Generally, data with Z-score larger than 3 are considered outliers. "
   ]
  },
  {
   "cell_type": "code",
   "execution_count": 13,
   "metadata": {},
   "outputs": [
    {
     "data": {
      "text/plain": [
       "677      18340\n",
       "2250     30635\n",
       "3247     15987\n",
       "3477    162963\n",
       "4471     42277\n",
       "Name: duration, dtype: int64"
      ]
     },
     "execution_count": 13,
     "metadata": {},
     "output_type": "execute_result"
    }
   ],
   "source": [
    "#Get outliers in the univariate distribution, by using the Z-score\n",
    "outliers_19 = april.get_zscore_outliers(df_19['duration'])\n",
    "outliers_19.head()"
   ]
  },
  {
   "cell_type": "code",
   "execution_count": 14,
   "metadata": {},
   "outputs": [
    {
     "data": {
      "text/plain": [
       "0.14254804632811505"
      ]
     },
     "execution_count": 14,
     "metadata": {},
     "output_type": "execute_result"
    }
   ],
   "source": [
    "#Percentage of outliers\n",
    "100*len(outliers_19.index) / len(df_19.index)"
   ]
  },
  {
   "cell_type": "markdown",
   "metadata": {},
   "source": [
    "The rows with Z-score strictly greater than 3 account for only 0.14% of the total data. I can safely drop these values, at least for studying the rides duration."
   ]
  },
  {
   "cell_type": "code",
   "execution_count": 15,
   "metadata": {},
   "outputs": [
    {
     "data": {
      "text/plain": [
       "count    235374.000000\n",
       "mean        775.167644\n",
       "std         823.462370\n",
       "min          61.000000\n",
       "25%         330.000000\n",
       "50%         531.000000\n",
       "75%         886.000000\n",
       "max       15360.000000\n",
       "Name: duration, dtype: float64"
      ]
     },
     "execution_count": 15,
     "metadata": {},
     "output_type": "execute_result"
    }
   ],
   "source": [
    "#Drop the outliers\n",
    "df_19 = df_19.drop(outliers_19.index)\n",
    "df_19['duration'].describe()"
   ]
  },
  {
   "cell_type": "markdown",
   "metadata": {},
   "source": [
    "The description of the dataframe looks better now. Let's see how the box plot turns out."
   ]
  },
  {
   "cell_type": "code",
   "execution_count": 16,
   "metadata": {},
   "outputs": [
    {
     "data": {
      "image/png": "[encoded data removed]",
      "text/plain": [
       "<Figure size 432x288 with 1 Axes>"
      ]
     },
     "metadata": {
      "needs_background": "light"
     },
     "output_type": "display_data"
    }
   ],
   "source": [
    "#Final box plot showing univariate distribution without outliers\n",
    "df_19['duration'].plot(kind='box');"
   ]
  },
  {
   "cell_type": "markdown",
   "metadata": {},
   "source": [
    "This also looks better. I can now say that we have removed all the outlier records from the 2019 data, in terms of ride duration. This is the only sensible feature to evaluate outliers on, as the other numerical data are station IDs, or geographical coordinates."
   ]
  },
  {
   "cell_type": "markdown",
   "metadata": {},
   "source": [
    "I now repeat the same study for the 2020 data."
   ]
  },
  {
   "cell_type": "code",
   "execution_count": 17,
   "metadata": {},
   "outputs": [
    {
     "data": {
      "text/plain": [
       "count    117405.000000\n",
       "mean        962.715464\n",
       "std        1283.649437\n",
       "min          61.000000\n",
       "25%         384.000000\n",
       "50%         637.000000\n",
       "75%        1107.000000\n",
       "max      183081.000000\n",
       "Name: duration, dtype: float64"
      ]
     },
     "execution_count": 17,
     "metadata": {},
     "output_type": "execute_result"
    }
   ],
   "source": [
    "df_20['duration'].describe()"
   ]
  },
  {
   "cell_type": "code",
   "execution_count": 18,
   "metadata": {},
   "outputs": [
    {
     "data": {
      "image/png": "[encoded data removed]",
      "text/plain": [
       "<Figure size 432x288 with 1 Axes>"
      ]
     },
     "metadata": {
      "needs_background": "light"
     },
     "output_type": "display_data"
    }
   ],
   "source": [
    "#Box plot showing univariate distribution\n",
    "df_20['duration'].plot(kind='box');"
   ]
  },
  {
   "cell_type": "code",
   "execution_count": 19,
   "metadata": {},
   "outputs": [
    {
     "data": {
      "text/plain": [
       "450     6845\n",
       "459    12591\n",
       "546     7921\n",
       "857     9921\n",
       "884     5352\n",
       "Name: duration, dtype: int64"
      ]
     },
     "execution_count": 19,
     "metadata": {},
     "output_type": "execute_result"
    }
   ],
   "source": [
    "#Get outliers in the univariate distribution, by using the Z-score\n",
    "outliers_20 = april.get_zscore_outliers(df_20['duration'])\n",
    "outliers_20.head()"
   ]
  },
  {
   "cell_type": "code",
   "execution_count": 20,
   "metadata": {},
   "outputs": [
    {
     "data": {
      "text/plain": [
       "0.9897363826072143"
      ]
     },
     "execution_count": 20,
     "metadata": {},
     "output_type": "execute_result"
    }
   ],
   "source": [
    "#Percentage of outliers\n",
    "100*len(outliers_20.index) / len(df_20.index)"
   ]
  },
  {
   "cell_type": "markdown",
   "metadata": {},
   "source": [
    "Outliers account for less than 1% of the data, so I can safely drop them."
   ]
  },
  {
   "cell_type": "code",
   "execution_count": 21,
   "metadata": {},
   "outputs": [
    {
     "data": {
      "text/plain": [
       "count    116243.000000\n",
       "mean        886.546519\n",
       "std         772.094440\n",
       "min          61.000000\n",
       "25%         382.000000\n",
       "50%         631.000000\n",
       "75%        1085.000000\n",
       "max        4813.000000\n",
       "Name: duration, dtype: float64"
      ]
     },
     "execution_count": 21,
     "metadata": {},
     "output_type": "execute_result"
    }
   ],
   "source": [
    "#Drop the outliers\n",
    "df_20 = df_20.drop(outliers_20.index)\n",
    "df_20['duration'].describe()"
   ]
  },
  {
   "cell_type": "code",
   "execution_count": 22,
   "metadata": {},
   "outputs": [
    {
     "data": {
      "image/png": "[encoded data removed]",
      "text/plain": [
       "<Figure size 432x288 with 1 Axes>"
      ]
     },
     "metadata": {
      "needs_background": "light"
     },
     "output_type": "display_data"
    }
   ],
   "source": [
    "#Final box plot showing univariate distribution without outliers\n",
    "df_20['duration'].plot(kind='box');"
   ]
  },
  {
   "cell_type": "markdown",
   "metadata": {},
   "source": [
    "### Distribution of the rides duration <a name=\"distribution\"></a>"
   ]
  },
  {
   "cell_type": "markdown",
   "metadata": {},
   "source": [
    "Now that I have cleaned my dataframes, I can proceed with a more meaningful study. To start with, let's compare again average duration and total traveled time in the two years."
   ]
  },
  {
   "cell_type": "code",
   "execution_count": 23,
   "metadata": {},
   "outputs": [
    {
     "name": "stdout",
     "output_type": "stream",
     "text": [
      "Total traveled time in 2019: 182454309 seconds. Average traveled time: 775.1676438349181 seconds.\n",
      "Total traveled time in 2020: 103054827 seconds. Average traveled time: 886.5465189301722 seconds.\n"
     ]
    }
   ],
   "source": [
    "print(f\"Total traveled time in 2019: {df_19['duration'].sum()} seconds. Average traveled time: {df_19['duration'].mean()} seconds.\")\n",
    "print(f\"Total traveled time in 2020: {df_20['duration'].sum()} seconds. Average traveled time: {df_20['duration'].mean()} seconds.\")"
   ]
  },
  {
   "cell_type": "markdown",
   "metadata": {},
   "source": [
    "I confirm that the average time traveled has increased in 2020. Therefore the decrease in total time travelled is caused exclusively by the fewer total rides. Let's compare the distributions."
   ]
  },
  {
   "cell_type": "code",
   "execution_count": 24,
   "metadata": {},
   "outputs": [
    {
     "name": "stderr",
     "output_type": "stream",
     "text": [
      "/usr/lib/python3/dist-packages/scipy/stats/stats.py:1713: FutureWarning: Using a non-tuple sequence for multidimensional indexing is deprecated; use `arr[tuple(seq)]` instead of `arr[seq]`. In the future this will be interpreted as an array index, `arr[np.array(seq)]`, which will result either in an error or a different result.\n",
      "  return np.add.reduce(sorted[indexer] * weights, axis=axis) / sumval\n"
     ]
    },
    {
     "data": {
      "image/png": "[encoded data removed]",
      "text/plain": [
       "<Figure size 432x288 with 1 Axes>"
      ]
     },
     "metadata": {
      "needs_background": "light"
     },
     "output_type": "display_data"
    }
   ],
   "source": [
    "#Plot distribution of the 2019 and 2020 data on rides duration\n",
    "sns.distplot(df_19['duration']);\n",
    "sns.distplot(df_20['duration']);"
   ]
  },
  {
   "cell_type": "markdown",
   "metadata": {},
   "source": [
    "The chart is not very readable, due to the presence of rides with large duration. Let's then focus on the bulk of it:"
   ]
  },
  {
   "cell_type": "code",
   "execution_count": 25,
   "metadata": {},
   "outputs": [
    {
     "name": "stderr",
     "output_type": "stream",
     "text": [
      "/usr/lib/python3/dist-packages/scipy/stats/stats.py:1713: FutureWarning: Using a non-tuple sequence for multidimensional indexing is deprecated; use `arr[tuple(seq)]` instead of `arr[seq]`. In the future this will be interpreted as an array index, `arr[np.array(seq)]`, which will result either in an error or a different result.\n",
      "  return np.add.reduce(sorted[indexer] * weights, axis=axis) / sumval\n"
     ]
    },
    {
     "data": {
      "image/png": "[encoded data removed]",
      "text/plain": [
       "<Figure size 432x288 with 1 Axes>"
      ]
     },
     "metadata": {
      "needs_background": "light"
     },
     "output_type": "display_data"
    }
   ],
   "source": [
    "#Filter rides lasting at most 3600 seconds (1 hour, which is the limit for free rides)\n",
    "rides_filter19 = np.where(df_19['duration']<3600,True,False)\n",
    "rides_filter20 = np.where(df_20['duration']<3600,True,False)\n",
    "\n",
    "#Plot distribution of the 2019 and 2020 data on rides duration, for those lasting at most 3600 seconds\n",
    "sns.distplot(df_19[rides_filter19]['duration']);\n",
    "sns.distplot(df_20[rides_filter20]['duration']);"
   ]
  },
  {
   "cell_type": "markdown",
   "metadata": {},
   "source": [
    "What I get from this distribution plot is that in 2020 we had fewer rides that lasted between 0 and about 800 seconds, but more rides lasting more than 800 seconds."
   ]
  },
  {
   "cell_type": "markdown",
   "metadata": {},
   "source": [
    "## Time series analysis <a name=\"time-series\"></a>"
   ]
  },
  {
   "cell_type": "markdown",
   "metadata": {},
   "source": [
    "### Variation during the month <a name=\"month\"></a>"
   ]
  },
  {
   "cell_type": "markdown",
   "metadata": {},
   "source": [
    "I now study how the number and duration of rides changed during the month in the two considered years. As a first approximation, I am going to ignore the distinction between weekdays and weekends."
   ]
  },
  {
   "cell_type": "code",
   "execution_count": 26,
   "metadata": {},
   "outputs": [
    {
     "data": {
      "text/html": [
       "<div>\n",
       "<style scoped>\n",
       "    .dataframe tbody tr th:only-of-type {\n",
       "        vertical-align: middle;\n",
       "    }\n",
       "\n",
       "    .dataframe tbody tr th {\n",
       "        vertical-align: top;\n",
       "    }\n",
       "\n",
       "    .dataframe thead th {\n",
       "        text-align: right;\n",
       "    }\n",
       "</style>\n",
       "<table border=\"1\" class=\"dataframe\">\n",
       "  <thead>\n",
       "    <tr style=\"text-align: right;\">\n",
       "      <th></th>\n",
       "      <th>Total rides</th>\n",
       "      <th>Total duration</th>\n",
       "      <th>Year</th>\n",
       "    </tr>\n",
       "    <tr>\n",
       "      <th>Day</th>\n",
       "      <th></th>\n",
       "      <th></th>\n",
       "      <th></th>\n",
       "    </tr>\n",
       "  </thead>\n",
       "  <tbody>\n",
       "    <tr>\n",
       "      <th>2</th>\n",
       "      <td>3</td>\n",
       "      <td>758</td>\n",
       "      <td>2019</td>\n",
       "    </tr>\n",
       "    <tr>\n",
       "      <th>3</th>\n",
       "      <td>5017</td>\n",
       "      <td>3067059</td>\n",
       "      <td>2019</td>\n",
       "    </tr>\n",
       "    <tr>\n",
       "      <th>4</th>\n",
       "      <td>8014</td>\n",
       "      <td>5640040</td>\n",
       "      <td>2019</td>\n",
       "    </tr>\n",
       "    <tr>\n",
       "      <th>5</th>\n",
       "      <td>7619</td>\n",
       "      <td>5075983</td>\n",
       "      <td>2019</td>\n",
       "    </tr>\n",
       "    <tr>\n",
       "      <th>6</th>\n",
       "      <td>6869</td>\n",
       "      <td>5601060</td>\n",
       "      <td>2019</td>\n",
       "    </tr>\n",
       "    <tr>\n",
       "      <th>7</th>\n",
       "      <td>4999</td>\n",
       "      <td>4499821</td>\n",
       "      <td>2019</td>\n",
       "    </tr>\n",
       "    <tr>\n",
       "      <th>8</th>\n",
       "      <td>7571</td>\n",
       "      <td>4817534</td>\n",
       "      <td>2019</td>\n",
       "    </tr>\n",
       "    <tr>\n",
       "      <th>9</th>\n",
       "      <td>8776</td>\n",
       "      <td>5350613</td>\n",
       "      <td>2019</td>\n",
       "    </tr>\n",
       "    <tr>\n",
       "      <th>10</th>\n",
       "      <td>9349</td>\n",
       "      <td>5646287</td>\n",
       "      <td>2019</td>\n",
       "    </tr>\n",
       "    <tr>\n",
       "      <th>11</th>\n",
       "      <td>9272</td>\n",
       "      <td>5553269</td>\n",
       "      <td>2019</td>\n",
       "    </tr>\n",
       "    <tr>\n",
       "      <th>12</th>\n",
       "      <td>9094</td>\n",
       "      <td>5699407</td>\n",
       "      <td>2019</td>\n",
       "    </tr>\n",
       "    <tr>\n",
       "      <th>13</th>\n",
       "      <td>6863</td>\n",
       "      <td>5498719</td>\n",
       "      <td>2019</td>\n",
       "    </tr>\n",
       "    <tr>\n",
       "      <th>14</th>\n",
       "      <td>5443</td>\n",
       "      <td>5165714</td>\n",
       "      <td>2019</td>\n",
       "    </tr>\n",
       "    <tr>\n",
       "      <th>15</th>\n",
       "      <td>8245</td>\n",
       "      <td>6097865</td>\n",
       "      <td>2019</td>\n",
       "    </tr>\n",
       "    <tr>\n",
       "      <th>16</th>\n",
       "      <td>7632</td>\n",
       "      <td>4920656</td>\n",
       "      <td>2019</td>\n",
       "    </tr>\n",
       "    <tr>\n",
       "      <th>17</th>\n",
       "      <td>7810</td>\n",
       "      <td>5732048</td>\n",
       "      <td>2019</td>\n",
       "    </tr>\n",
       "    <tr>\n",
       "      <th>18</th>\n",
       "      <td>5646</td>\n",
       "      <td>5647780</td>\n",
       "      <td>2019</td>\n",
       "    </tr>\n",
       "    <tr>\n",
       "      <th>19</th>\n",
       "      <td>5985</td>\n",
       "      <td>6311719</td>\n",
       "      <td>2019</td>\n",
       "    </tr>\n",
       "    <tr>\n",
       "      <th>20</th>\n",
       "      <td>6868</td>\n",
       "      <td>7081504</td>\n",
       "      <td>2019</td>\n",
       "    </tr>\n",
       "    <tr>\n",
       "      <th>21</th>\n",
       "      <td>6281</td>\n",
       "      <td>6532648</td>\n",
       "      <td>2019</td>\n",
       "    </tr>\n",
       "    <tr>\n",
       "      <th>22</th>\n",
       "      <td>10881</td>\n",
       "      <td>10855936</td>\n",
       "      <td>2019</td>\n",
       "    </tr>\n",
       "    <tr>\n",
       "      <th>23</th>\n",
       "      <td>13069</td>\n",
       "      <td>9862243</td>\n",
       "      <td>2019</td>\n",
       "    </tr>\n",
       "    <tr>\n",
       "      <th>24</th>\n",
       "      <td>14131</td>\n",
       "      <td>9678788</td>\n",
       "      <td>2019</td>\n",
       "    </tr>\n",
       "    <tr>\n",
       "      <th>25</th>\n",
       "      <td>12530</td>\n",
       "      <td>8327000</td>\n",
       "      <td>2019</td>\n",
       "    </tr>\n",
       "    <tr>\n",
       "      <th>26</th>\n",
       "      <td>15183</td>\n",
       "      <td>11527413</td>\n",
       "      <td>2019</td>\n",
       "    </tr>\n",
       "    <tr>\n",
       "      <th>27</th>\n",
       "      <td>9465</td>\n",
       "      <td>8311997</td>\n",
       "      <td>2019</td>\n",
       "    </tr>\n",
       "    <tr>\n",
       "      <th>28</th>\n",
       "      <td>12134</td>\n",
       "      <td>12496599</td>\n",
       "      <td>2019</td>\n",
       "    </tr>\n",
       "    <tr>\n",
       "      <th>29</th>\n",
       "      <td>10625</td>\n",
       "      <td>7453849</td>\n",
       "      <td>2019</td>\n",
       "    </tr>\n",
       "  </tbody>\n",
       "</table>\n",
       "</div>"
      ],
      "text/plain": [
       "     Total rides  Total duration  Year\n",
       "Day                                   \n",
       "2              3             758  2019\n",
       "3           5017         3067059  2019\n",
       "4           8014         5640040  2019\n",
       "5           7619         5075983  2019\n",
       "6           6869         5601060  2019\n",
       "7           4999         4499821  2019\n",
       "8           7571         4817534  2019\n",
       "9           8776         5350613  2019\n",
       "10          9349         5646287  2019\n",
       "11          9272         5553269  2019\n",
       "12          9094         5699407  2019\n",
       "13          6863         5498719  2019\n",
       "14          5443         5165714  2019\n",
       "15          8245         6097865  2019\n",
       "16          7632         4920656  2019\n",
       "17          7810         5732048  2019\n",
       "18          5646         5647780  2019\n",
       "19          5985         6311719  2019\n",
       "20          6868         7081504  2019\n",
       "21          6281         6532648  2019\n",
       "22         10881        10855936  2019\n",
       "23         13069         9862243  2019\n",
       "24         14131         9678788  2019\n",
       "25         12530         8327000  2019\n",
       "26         15183        11527413  2019\n",
       "27          9465         8311997  2019\n",
       "28         12134        12496599  2019\n",
       "29         10625         7453849  2019"
      ]
     },
     "execution_count": 26,
     "metadata": {},
     "output_type": "execute_result"
    }
   ],
   "source": [
    "#Aggregate the 2019 data by day. Keep track of total rides and total duration\n",
    "days_19 = april.aggregate_by_day(df_19)\n",
    "days_19"
   ]
  },
  {
   "cell_type": "code",
   "execution_count": 27,
   "metadata": {},
   "outputs": [
    {
     "data": {
      "text/html": [
       "<div>\n",
       "<style scoped>\n",
       "    .dataframe tbody tr th:only-of-type {\n",
       "        vertical-align: middle;\n",
       "    }\n",
       "\n",
       "    .dataframe tbody tr th {\n",
       "        vertical-align: top;\n",
       "    }\n",
       "\n",
       "    .dataframe thead th {\n",
       "        text-align: right;\n",
       "    }\n",
       "</style>\n",
       "<table border=\"1\" class=\"dataframe\">\n",
       "  <thead>\n",
       "    <tr style=\"text-align: right;\">\n",
       "      <th></th>\n",
       "      <th>Total rides</th>\n",
       "      <th>Total duration</th>\n",
       "      <th>Year</th>\n",
       "    </tr>\n",
       "    <tr>\n",
       "      <th>Day</th>\n",
       "      <th></th>\n",
       "      <th></th>\n",
       "      <th></th>\n",
       "    </tr>\n",
       "  </thead>\n",
       "  <tbody>\n",
       "    <tr>\n",
       "      <th>1</th>\n",
       "      <td>2825</td>\n",
       "      <td>2335024</td>\n",
       "      <td>2020</td>\n",
       "    </tr>\n",
       "    <tr>\n",
       "      <th>2</th>\n",
       "      <td>2141</td>\n",
       "      <td>1546751</td>\n",
       "      <td>2020</td>\n",
       "    </tr>\n",
       "    <tr>\n",
       "      <th>3</th>\n",
       "      <td>2926</td>\n",
       "      <td>2254184</td>\n",
       "      <td>2020</td>\n",
       "    </tr>\n",
       "    <tr>\n",
       "      <th>4</th>\n",
       "      <td>2944</td>\n",
       "      <td>2974345</td>\n",
       "      <td>2020</td>\n",
       "    </tr>\n",
       "    <tr>\n",
       "      <th>5</th>\n",
       "      <td>1827</td>\n",
       "      <td>1779061</td>\n",
       "      <td>2020</td>\n",
       "    </tr>\n",
       "    <tr>\n",
       "      <th>6</th>\n",
       "      <td>3816</td>\n",
       "      <td>3543888</td>\n",
       "      <td>2020</td>\n",
       "    </tr>\n",
       "    <tr>\n",
       "      <th>7</th>\n",
       "      <td>4241</td>\n",
       "      <td>3930040</td>\n",
       "      <td>2020</td>\n",
       "    </tr>\n",
       "    <tr>\n",
       "      <th>8</th>\n",
       "      <td>3453</td>\n",
       "      <td>2746289</td>\n",
       "      <td>2020</td>\n",
       "    </tr>\n",
       "    <tr>\n",
       "      <th>9</th>\n",
       "      <td>3545</td>\n",
       "      <td>3956230</td>\n",
       "      <td>2020</td>\n",
       "    </tr>\n",
       "    <tr>\n",
       "      <th>10</th>\n",
       "      <td>3407</td>\n",
       "      <td>3939025</td>\n",
       "      <td>2020</td>\n",
       "    </tr>\n",
       "    <tr>\n",
       "      <th>11</th>\n",
       "      <td>1356</td>\n",
       "      <td>1008259</td>\n",
       "      <td>2020</td>\n",
       "    </tr>\n",
       "    <tr>\n",
       "      <th>12</th>\n",
       "      <td>2835</td>\n",
       "      <td>3099680</td>\n",
       "      <td>2020</td>\n",
       "    </tr>\n",
       "    <tr>\n",
       "      <th>13</th>\n",
       "      <td>2562</td>\n",
       "      <td>2439048</td>\n",
       "      <td>2020</td>\n",
       "    </tr>\n",
       "    <tr>\n",
       "      <th>14</th>\n",
       "      <td>2867</td>\n",
       "      <td>2047234</td>\n",
       "      <td>2020</td>\n",
       "    </tr>\n",
       "    <tr>\n",
       "      <th>15</th>\n",
       "      <td>5230</td>\n",
       "      <td>4636420</td>\n",
       "      <td>2020</td>\n",
       "    </tr>\n",
       "    <tr>\n",
       "      <th>16</th>\n",
       "      <td>4138</td>\n",
       "      <td>3331054</td>\n",
       "      <td>2020</td>\n",
       "    </tr>\n",
       "    <tr>\n",
       "      <th>17</th>\n",
       "      <td>4502</td>\n",
       "      <td>3546933</td>\n",
       "      <td>2020</td>\n",
       "    </tr>\n",
       "    <tr>\n",
       "      <th>18</th>\n",
       "      <td>5354</td>\n",
       "      <td>5174393</td>\n",
       "      <td>2020</td>\n",
       "    </tr>\n",
       "    <tr>\n",
       "      <th>19</th>\n",
       "      <td>4951</td>\n",
       "      <td>5494923</td>\n",
       "      <td>2020</td>\n",
       "    </tr>\n",
       "    <tr>\n",
       "      <th>20</th>\n",
       "      <td>5737</td>\n",
       "      <td>5030070</td>\n",
       "      <td>2020</td>\n",
       "    </tr>\n",
       "    <tr>\n",
       "      <th>21</th>\n",
       "      <td>6608</td>\n",
       "      <td>5949337</td>\n",
       "      <td>2020</td>\n",
       "    </tr>\n",
       "    <tr>\n",
       "      <th>22</th>\n",
       "      <td>7066</td>\n",
       "      <td>6371025</td>\n",
       "      <td>2020</td>\n",
       "    </tr>\n",
       "    <tr>\n",
       "      <th>23</th>\n",
       "      <td>6351</td>\n",
       "      <td>5533033</td>\n",
       "      <td>2020</td>\n",
       "    </tr>\n",
       "    <tr>\n",
       "      <th>24</th>\n",
       "      <td>4889</td>\n",
       "      <td>3567526</td>\n",
       "      <td>2020</td>\n",
       "    </tr>\n",
       "    <tr>\n",
       "      <th>25</th>\n",
       "      <td>5179</td>\n",
       "      <td>4737696</td>\n",
       "      <td>2020</td>\n",
       "    </tr>\n",
       "    <tr>\n",
       "      <th>26</th>\n",
       "      <td>4199</td>\n",
       "      <td>4350630</td>\n",
       "      <td>2020</td>\n",
       "    </tr>\n",
       "    <tr>\n",
       "      <th>27</th>\n",
       "      <td>1664</td>\n",
       "      <td>1009300</td>\n",
       "      <td>2020</td>\n",
       "    </tr>\n",
       "    <tr>\n",
       "      <th>28</th>\n",
       "      <td>4417</td>\n",
       "      <td>3036135</td>\n",
       "      <td>2020</td>\n",
       "    </tr>\n",
       "    <tr>\n",
       "      <th>29</th>\n",
       "      <td>5213</td>\n",
       "      <td>3687294</td>\n",
       "      <td>2020</td>\n",
       "    </tr>\n",
       "  </tbody>\n",
       "</table>\n",
       "</div>"
      ],
      "text/plain": [
       "     Total rides  Total duration  Year\n",
       "Day                                   \n",
       "1           2825         2335024  2020\n",
       "2           2141         1546751  2020\n",
       "3           2926         2254184  2020\n",
       "4           2944         2974345  2020\n",
       "5           1827         1779061  2020\n",
       "6           3816         3543888  2020\n",
       "7           4241         3930040  2020\n",
       "8           3453         2746289  2020\n",
       "9           3545         3956230  2020\n",
       "10          3407         3939025  2020\n",
       "11          1356         1008259  2020\n",
       "12          2835         3099680  2020\n",
       "13          2562         2439048  2020\n",
       "14          2867         2047234  2020\n",
       "15          5230         4636420  2020\n",
       "16          4138         3331054  2020\n",
       "17          4502         3546933  2020\n",
       "18          5354         5174393  2020\n",
       "19          4951         5494923  2020\n",
       "20          5737         5030070  2020\n",
       "21          6608         5949337  2020\n",
       "22          7066         6371025  2020\n",
       "23          6351         5533033  2020\n",
       "24          4889         3567526  2020\n",
       "25          5179         4737696  2020\n",
       "26          4199         4350630  2020\n",
       "27          1664         1009300  2020\n",
       "28          4417         3036135  2020\n",
       "29          5213         3687294  2020"
      ]
     },
     "execution_count": 27,
     "metadata": {},
     "output_type": "execute_result"
    }
   ],
   "source": [
    "#Aggregate the 2020 data by day. Keep track of total rides and total duration\n",
    "days_20 = april.aggregate_by_day(df_20)\n",
    "days_20"
   ]
  },
  {
   "cell_type": "code",
   "execution_count": 28,
   "metadata": {
    "scrolled": true
   },
   "outputs": [
    {
     "data": {
      "image/png": "[encoded data removed]",
      "text/plain": [
       "<Figure size 432x288 with 1 Axes>"
      ]
     },
     "metadata": {
      "needs_background": "light"
     },
     "output_type": "display_data"
    }
   ],
   "source": [
    "#Plot the 2019 and 2020 data on total rides in April\n",
    "days_19['Total rides'].plot()\n",
    "days_20['Total rides'].plot()\n",
    "plt.legend(['2019','2020'])\n",
    "plt.title('Total bike rides per month day in April');"
   ]
  },
  {
   "cell_type": "markdown",
   "metadata": {},
   "source": [
    "Plotting alongside the 2019 and 2020 data, it is clear that almost every day of the month there have been fewer rides in 2020. In particular, the gap narrows towards the 20th of April, and then widens again. This may be due to the fact that week 12-19 was Easter week in 2020, which is unrelated with the lockdown. However, before drawing conclusions I should also account for the weather and for the day of the week."
   ]
  },
  {
   "cell_type": "markdown",
   "metadata": {},
   "source": [
    "Let's visualize the relative variation."
   ]
  },
  {
   "cell_type": "code",
   "execution_count": 29,
   "metadata": {},
   "outputs": [
    {
     "data": {
      "text/plain": [
       "Day\n",
       "1           NaN\n",
       "2    712.666667\n",
       "3     -0.416783\n",
       "4     -0.632643\n",
       "5     -0.760205\n",
       "Name: Total rides, dtype: float64"
      ]
     },
     "execution_count": 29,
     "metadata": {},
     "output_type": "execute_result"
    }
   ],
   "source": [
    "#Compute the relative variation in total rides, day by day\n",
    "df_variations = (days_20['Total rides'] / days_19['Total rides']) -1\n",
    "df_variations.head()"
   ]
  },
  {
   "cell_type": "code",
   "execution_count": 30,
   "metadata": {},
   "outputs": [
    {
     "data": {
      "image/png": "[encoded data removed]",
      "text/plain": [
       "<Figure size 432x288 with 1 Axes>"
      ]
     },
     "metadata": {
      "needs_background": "light"
     },
     "output_type": "display_data"
    }
   ],
   "source": [
    "#Plot the relative variation day by day. Data for the 1st and 2nd of April is problematic, so we don't plot it\n",
    "df_variations.loc[3:].plot(kind='line')\n",
    "plt.title('Relative variation in the total number of rides');"
   ]
  },
  {
   "cell_type": "markdown",
   "metadata": {},
   "source": [
    "As seen in the previous chart, the relative variation compared to 2019 has been close to zero around the 20th of April, and near the end of the month it went back to levels similar to the week 5-12."
   ]
  },
  {
   "cell_type": "markdown",
   "metadata": {},
   "source": [
    "Let's make the same study for the duration of the rides."
   ]
  },
  {
   "cell_type": "code",
   "execution_count": 31,
   "metadata": {},
   "outputs": [
    {
     "data": {
      "image/png": "[encoded data removed]",
      "text/plain": [
       "<Figure size 432x288 with 1 Axes>"
      ]
     },
     "metadata": {
      "needs_background": "light"
     },
     "output_type": "display_data"
    }
   ],
   "source": [
    "#Plot the 2019 and 2020 data on total duration in April\n",
    "days_19['Total duration'].plot()\n",
    "days_20['Total duration'].plot()\n",
    "plt.legend(['2019','2020'])\n",
    "plt.title('Total rides duration per month day in April');"
   ]
  },
  {
   "cell_type": "code",
   "execution_count": 32,
   "metadata": {},
   "outputs": [
    {
     "data": {
      "image/png": "[encoded data removed]",
      "text/plain": [
       "<Figure size 432x288 with 1 Axes>"
      ]
     },
     "metadata": {
      "needs_background": "light"
     },
     "output_type": "display_data"
    }
   ],
   "source": [
    "#Compute the relative variation in total duration day by day, and plot it. \n",
    "df_variations = (days_20['Total duration'] / days_19['Total duration']) -1\n",
    "df_variations.loc[3:].plot(kind='line'); #Plot. Data for the 1st and 2nd of April is problematic, so we don't plot it\n",
    "plt.title('Relative variation in the total rides duration');"
   ]
  },
  {
   "cell_type": "markdown",
   "metadata": {},
   "source": [
    "The relative variation in total rides duration shows the same behaviour as the relative variation in the total number of rides, albeit less smooth."
   ]
  },
  {
   "cell_type": "markdown",
   "metadata": {},
   "source": [
    "This brief study is able to detect a spike in mobility in the period 12th-19th of April, which was Easter week in 2020. This surely denotes the fact that in those days the situation was similar to 2019, so it may hint at an ease of the lockdown, or at a less strict following of the lockdown rules by the population. Even with simple mobility data, we can see a clear increase in mobility to levels similar to 2019.\n",
    "\n",
    "This first study is not conclusive on the _reasons_ though. I'd be able to investigate more about this by plugging in weather data, the day of the week and the days when restrictions were lifted.\n",
    "\n",
    "Regarding the overall trend along the month, the study of the total number of rides and their duration tells that there is not any upward trend along the month. Mobility varied, but it increased and decreased during the month. Oslo residents did not use the bikes sensibly more and more as the days passed by."
   ]
  },
  {
   "cell_type": "markdown",
   "metadata": {},
   "source": [
    "### Variation by day of the week <a name=\"weekday\"></a>"
   ]
  },
  {
   "cell_type": "markdown",
   "metadata": {},
   "source": [
    "I now separate the days in weekdays and weekend, to investigate whether there is any difference in the mobility."
   ]
  },
  {
   "cell_type": "code",
   "execution_count": 33,
   "metadata": {},
   "outputs": [
    {
     "data": {
      "text/html": [
       "<div>\n",
       "<style scoped>\n",
       "    .dataframe tbody tr th:only-of-type {\n",
       "        vertical-align: middle;\n",
       "    }\n",
       "\n",
       "    .dataframe tbody tr th {\n",
       "        vertical-align: top;\n",
       "    }\n",
       "\n",
       "    .dataframe thead th {\n",
       "        text-align: right;\n",
       "    }\n",
       "</style>\n",
       "<table border=\"1\" class=\"dataframe\">\n",
       "  <thead>\n",
       "    <tr style=\"text-align: right;\">\n",
       "      <th></th>\n",
       "      <th></th>\n",
       "      <th>Total rides</th>\n",
       "      <th>Total duration</th>\n",
       "    </tr>\n",
       "    <tr>\n",
       "      <th>Year</th>\n",
       "      <th></th>\n",
       "      <th></th>\n",
       "      <th></th>\n",
       "    </tr>\n",
       "  </thead>\n",
       "  <tbody>\n",
       "    <tr>\n",
       "      <th rowspan=\"2\" valign=\"top\">2019</th>\n",
       "      <th>Weekday</th>\n",
       "      <td>176452</td>\n",
       "      <td>127266247</td>\n",
       "    </tr>\n",
       "    <tr>\n",
       "      <th>Weekend</th>\n",
       "      <td>58922</td>\n",
       "      <td>55188062</td>\n",
       "    </tr>\n",
       "    <tr>\n",
       "      <th rowspan=\"2\" valign=\"top\">2020</th>\n",
       "      <th>Weekday</th>\n",
       "      <td>87598</td>\n",
       "      <td>74435840</td>\n",
       "    </tr>\n",
       "    <tr>\n",
       "      <th>Weekend</th>\n",
       "      <td>28645</td>\n",
       "      <td>28618987</td>\n",
       "    </tr>\n",
       "  </tbody>\n",
       "</table>\n",
       "</div>"
      ],
      "text/plain": [
       "              Total rides  Total duration\n",
       "Year                                     \n",
       "2019 Weekday       176452       127266247\n",
       "     Weekend        58922        55188062\n",
       "2020 Weekday        87598        74435840\n",
       "     Weekend        28645        28618987"
      ]
     },
     "execution_count": 33,
     "metadata": {},
     "output_type": "execute_result"
    }
   ],
   "source": [
    "#Aggregate the 2019 and 2020 data together by weekday. Keep track of total rides and total duration\n",
    "df_weekday = april.joint_aggregate_by_weekday(df_19,df_20)\n",
    "df_weekday"
   ]
  },
  {
   "cell_type": "code",
   "execution_count": 34,
   "metadata": {},
   "outputs": [
    {
     "name": "stdout",
     "output_type": "stream",
     "text": [
      "The relative variation of total rides on weekdays is -0.5036, on weekends is -0.5138.\n"
     ]
    }
   ],
   "source": [
    "#Compute the relative variation in total rides, distinguishing between weekdays and weekends.\n",
    "(_vwork,_vend) = (df_weekday.loc[2020,'Total rides'] / df_weekday.loc[2019,'Total rides']) - 1\n",
    "print(f\"The relative variation of total rides on weekdays is {round(_vwork,4)}, on weekends is {round(_vend,4)}.\")"
   ]
  },
  {
   "cell_type": "code",
   "execution_count": 35,
   "metadata": {},
   "outputs": [
    {
     "data": {
      "text/html": [
       "<div>\n",
       "<style scoped>\n",
       "    .dataframe tbody tr th:only-of-type {\n",
       "        vertical-align: middle;\n",
       "    }\n",
       "\n",
       "    .dataframe tbody tr th {\n",
       "        vertical-align: top;\n",
       "    }\n",
       "\n",
       "    .dataframe thead th {\n",
       "        text-align: right;\n",
       "    }\n",
       "</style>\n",
       "<table border=\"1\" class=\"dataframe\">\n",
       "  <thead>\n",
       "    <tr style=\"text-align: right;\">\n",
       "      <th></th>\n",
       "      <th>Total rides</th>\n",
       "      <th>Total duration</th>\n",
       "      <th>Average duration</th>\n",
       "    </tr>\n",
       "  </thead>\n",
       "  <tbody>\n",
       "    <tr>\n",
       "      <th>Weekday</th>\n",
       "      <td>-0.503559</td>\n",
       "      <td>-0.415117</td>\n",
       "      <td>0.178152</td>\n",
       "    </tr>\n",
       "    <tr>\n",
       "      <th>Weekend</th>\n",
       "      <td>-0.513849</td>\n",
       "      <td>-0.481428</td>\n",
       "      <td>0.066689</td>\n",
       "    </tr>\n",
       "  </tbody>\n",
       "</table>\n",
       "</div>"
      ],
      "text/plain": [
       "         Total rides  Total duration  Average duration\n",
       "Weekday    -0.503559       -0.415117          0.178152\n",
       "Weekend    -0.513849       -0.481428          0.066689"
      ]
     },
     "metadata": {},
     "output_type": "display_data"
    },
    {
     "data": {
      "image/png": "[encoded data removed]",
      "text/plain": [
       "<Figure size 432x288 with 1 Axes>"
      ]
     },
     "metadata": {
      "needs_background": "light"
     },
     "output_type": "display_data"
    }
   ],
   "source": [
    "#Compute and plot relative variations of total rides, total duration and average duration\n",
    "april.plot_rel_variations(df_weekday)"
   ]
  },
  {
   "cell_type": "markdown",
   "metadata": {},
   "source": [
    "The variation in the total number of rides is the same regardless of whether the considered day is a weekday or a weekend. As seen, the average variation of a ride has increased, and it increased more in the weekdays. Hence the trend \"fewer rides, but longer\" is more prevalent in the weekdays. Consequently, the total duration has decreased more in the weekends.\n",
    "\n",
    "Anyway, I do not detect any big difference in the variation between weekdays and weekends, except for the average ride duration."
   ]
  },
  {
   "cell_type": "markdown",
   "metadata": {},
   "source": [
    "### Variation by week <a name=\"week\"></a>"
   ]
  },
  {
   "cell_type": "markdown",
   "metadata": {},
   "source": [
    "I now try to answer the following question: as the weeks passed by, did the people traveled more using the public bikes?\n",
    "\n",
    "As said at the beginning, if bike usage is to be considered a good proxy for the overall mobility, by answering this question I can understand whether the Oslo residents traveled more/less/the same in general, as the weeks passed by. Therefore, I can try to understand whether the lockdown was progressively eased (or ignored) or not."
   ]
  },
  {
   "cell_type": "code",
   "execution_count": 36,
   "metadata": {},
   "outputs": [
    {
     "data": {
      "text/html": [
       "<div>\n",
       "<style scoped>\n",
       "    .dataframe tbody tr th:only-of-type {\n",
       "        vertical-align: middle;\n",
       "    }\n",
       "\n",
       "    .dataframe tbody tr th {\n",
       "        vertical-align: top;\n",
       "    }\n",
       "\n",
       "    .dataframe thead th {\n",
       "        text-align: right;\n",
       "    }\n",
       "</style>\n",
       "<table border=\"1\" class=\"dataframe\">\n",
       "  <thead>\n",
       "    <tr style=\"text-align: right;\">\n",
       "      <th></th>\n",
       "      <th></th>\n",
       "      <th></th>\n",
       "      <th>Total rides</th>\n",
       "      <th>Total duration</th>\n",
       "    </tr>\n",
       "    <tr>\n",
       "      <th>Year</th>\n",
       "      <th>Week</th>\n",
       "      <th></th>\n",
       "      <th></th>\n",
       "      <th></th>\n",
       "    </tr>\n",
       "  </thead>\n",
       "  <tbody>\n",
       "    <tr>\n",
       "      <th rowspan=\"9\" valign=\"top\">2019</th>\n",
       "      <th rowspan=\"2\" valign=\"top\">14</th>\n",
       "      <th>Weekday</th>\n",
       "      <td>20653</td>\n",
       "      <td>13783840</td>\n",
       "    </tr>\n",
       "    <tr>\n",
       "      <th>Weekend</th>\n",
       "      <td>11868</td>\n",
       "      <td>10100881</td>\n",
       "    </tr>\n",
       "    <tr>\n",
       "      <th rowspan=\"2\" valign=\"top\">15</th>\n",
       "      <th>Weekday</th>\n",
       "      <td>44062</td>\n",
       "      <td>27067110</td>\n",
       "    </tr>\n",
       "    <tr>\n",
       "      <th>Weekend</th>\n",
       "      <td>12306</td>\n",
       "      <td>10664433</td>\n",
       "    </tr>\n",
       "    <tr>\n",
       "      <th rowspan=\"2\" valign=\"top\">16</th>\n",
       "      <th>Weekday</th>\n",
       "      <td>35318</td>\n",
       "      <td>28710068</td>\n",
       "    </tr>\n",
       "    <tr>\n",
       "      <th>Weekend</th>\n",
       "      <td>13149</td>\n",
       "      <td>13614152</td>\n",
       "    </tr>\n",
       "    <tr>\n",
       "      <th rowspan=\"2\" valign=\"top\">17</th>\n",
       "      <th>Weekday</th>\n",
       "      <td>65794</td>\n",
       "      <td>50251380</td>\n",
       "    </tr>\n",
       "    <tr>\n",
       "      <th>Weekend</th>\n",
       "      <td>21599</td>\n",
       "      <td>20808596</td>\n",
       "    </tr>\n",
       "    <tr>\n",
       "      <th>18</th>\n",
       "      <th>Weekday</th>\n",
       "      <td>10625</td>\n",
       "      <td>7453849</td>\n",
       "    </tr>\n",
       "    <tr>\n",
       "      <th rowspan=\"9\" valign=\"top\">2020</th>\n",
       "      <th rowspan=\"2\" valign=\"top\">14</th>\n",
       "      <th>Weekday</th>\n",
       "      <td>7892</td>\n",
       "      <td>6135959</td>\n",
       "    </tr>\n",
       "    <tr>\n",
       "      <th>Weekend</th>\n",
       "      <td>4771</td>\n",
       "      <td>4753406</td>\n",
       "    </tr>\n",
       "    <tr>\n",
       "      <th rowspan=\"2\" valign=\"top\">15</th>\n",
       "      <th>Weekday</th>\n",
       "      <td>18462</td>\n",
       "      <td>18115472</td>\n",
       "    </tr>\n",
       "    <tr>\n",
       "      <th>Weekend</th>\n",
       "      <td>4191</td>\n",
       "      <td>4107939</td>\n",
       "    </tr>\n",
       "    <tr>\n",
       "      <th rowspan=\"2\" valign=\"top\">16</th>\n",
       "      <th>Weekday</th>\n",
       "      <td>19299</td>\n",
       "      <td>16000689</td>\n",
       "    </tr>\n",
       "    <tr>\n",
       "      <th>Weekend</th>\n",
       "      <td>10305</td>\n",
       "      <td>10669316</td>\n",
       "    </tr>\n",
       "    <tr>\n",
       "      <th rowspan=\"2\" valign=\"top\">17</th>\n",
       "      <th>Weekday</th>\n",
       "      <td>30651</td>\n",
       "      <td>26450991</td>\n",
       "    </tr>\n",
       "    <tr>\n",
       "      <th>Weekend</th>\n",
       "      <td>9378</td>\n",
       "      <td>9088326</td>\n",
       "    </tr>\n",
       "    <tr>\n",
       "      <th>18</th>\n",
       "      <th>Weekday</th>\n",
       "      <td>11294</td>\n",
       "      <td>7732729</td>\n",
       "    </tr>\n",
       "  </tbody>\n",
       "</table>\n",
       "</div>"
      ],
      "text/plain": [
       "                   Total rides  Total duration\n",
       "Year Week                                     \n",
       "2019 14   Weekday        20653        13783840\n",
       "          Weekend        11868        10100881\n",
       "     15   Weekday        44062        27067110\n",
       "          Weekend        12306        10664433\n",
       "     16   Weekday        35318        28710068\n",
       "          Weekend        13149        13614152\n",
       "     17   Weekday        65794        50251380\n",
       "          Weekend        21599        20808596\n",
       "     18   Weekday        10625         7453849\n",
       "2020 14   Weekday         7892         6135959\n",
       "          Weekend         4771         4753406\n",
       "     15   Weekday        18462        18115472\n",
       "          Weekend         4191         4107939\n",
       "     16   Weekday        19299        16000689\n",
       "          Weekend        10305        10669316\n",
       "     17   Weekday        30651        26450991\n",
       "          Weekend         9378         9088326\n",
       "     18   Weekday        11294         7732729"
      ]
     },
     "execution_count": 36,
     "metadata": {},
     "output_type": "execute_result"
    }
   ],
   "source": [
    "#Aggregate the 2019 and 2020 data together by week and weekday. Keep track of total rides and total duration\n",
    "df_week = april.joint_aggregate_by_week(df_19,df_20)\n",
    "df_week"
   ]
  },
  {
   "cell_type": "code",
   "execution_count": 37,
   "metadata": {},
   "outputs": [
    {
     "data": {
      "image/png": "[encoded data removed]",
      "text/plain": [
       "<Figure size 432x288 with 2 Axes>"
      ]
     },
     "metadata": {
      "needs_background": "light"
     },
     "output_type": "display_data"
    }
   ],
   "source": [
    "#Compute and plot relative variations of total rides and total duration, keeping also track of the day of the week\n",
    "april.plot_weekly_var(df_week)"
   ]
  },
  {
   "cell_type": "markdown",
   "metadata": {},
   "source": [
    "The decrease in the number of rides per week varies a bit, but without following any particular trend. I can say that separating by week did not give any new insight with respect to the division by day, on the trend over time. However, I can make some considerations.\n",
    "\n",
    "- Week 14 shows the greatest decrease for both quantities.\n",
    "- There is more variance when comparing weekends than when comparing weekdays. This may be explained by the fact that the work commute is less affected by the lockdown, because its safety does not vary over time. Other factors such as the weather may also play a role, as the weekend traffic is mainly for leisure.\n",
    "- As seen before, the total number of rides shrinked more that the total time traveled. But actually this is true almost exclusively for the weekdays! Week by week, the decrease in total rides is larger than that in total duration, but that's not true for the weekend.\n",
    "- In the 16th week there is a great spike in mobility, people seem to have picked up the bikes again, particularly in the weekend! This is worth investigating, the standard suspects are public holidays and weather."
   ]
  },
  {
   "cell_type": "markdown",
   "metadata": {},
   "source": [
    "The week ending in the 12th of April 2020 was indeed the week leading up to Easter. This was not the case in 2019, where Easter was the 21st of April. This explains the smaller decrease in the rides taken in that weekend---it was Easter weekend in 2020."
   ]
  },
  {
   "cell_type": "markdown",
   "metadata": {},
   "source": [
    "## Conclusions and further work <a name=\"conclusions\"></a>"
   ]
  },
  {
   "cell_type": "markdown",
   "metadata": {},
   "source": [
    "Except for the increased mobility during the week leading to Easter, about the mobility along the month I can only say that at the beginning of the month people were riding less. However, there is no constant upward trend in the bikes mobility, it continues to vary along April. Drom the data exploration done so far I draw the following conclusion: the decrease in the mobility, particularly in bike mobility, has not varied with any noticeable trend during April 2020 (compared to April 2019), despite being larger at the beginning of the month.\n",
    "\n",
    "This conclusion is supported by the study of the data by day, by week and by weekday. This suggets that the lockdown has _not_ been progressively ignored (or significantly eased) as weeks passed by.\n",
    "\n",
    "As already said, this is not definitive: the residents could have in fact going outside more, just not using the public bikes. However, it surely tells something about the usage of bikes to travel.\n",
    "\n",
    "There are further investigations that could be done on this data: for example, it would be interesting to combine data on bike rides with weather data. This will be included in future versions of this case study."
   ]
  }
 ],
 "metadata": {
  "kernelspec": {
   "display_name": "Python 3",
   "language": "python",
   "name": "python3"
  },
  "language_info": {
   "codemirror_mode": {
    "name": "ipython",
    "version": 3
   },
   "file_extension": ".py",
   "mimetype": "text/x-python",
   "name": "python",
   "nbconvert_exporter": "python",
   "pygments_lexer": "ipython3",
   "version": "3.7.3"
  }
 },
 "nbformat": 4,
 "nbformat_minor": 2
}
